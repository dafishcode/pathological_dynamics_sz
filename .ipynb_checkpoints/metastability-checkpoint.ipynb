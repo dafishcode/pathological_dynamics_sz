{
 "cells": [
  {
   "cell_type": "code",
   "execution_count": 9,
   "metadata": {
    "colab": {
     "base_uri": "https://localhost:8080/"
    },
    "id": "dfEPT66RR1Th",
    "outputId": "ad77aeff-4089-41a3-ae1f-14a13b81f630"
   },
   "outputs": [
    {
     "data": {
      "text/plain": [
       "'3.7.6 (default, Jan  8 2020, 13:42:34) \\n[Clang 4.0.1 (tags/RELEASE_401/final)]'"
      ]
     },
     "execution_count": 9,
     "metadata": {},
     "output_type": "execute_result"
    }
   ],
   "source": [
    "#Import packages\n",
    "#---------------------------------------\n",
    "import sys\n",
    "import os\n",
    "import pandas as pd\n",
    "from matplotlib import pyplot as plt\n",
    "import numpy as np\n",
    "import matplotlib\n",
    "import warnings\n",
    "warnings.filterwarnings(\"ignore\", category=RuntimeWarning) \n",
    "\n",
    "#Import your modules\n",
    "#---------------------------------------\n",
    "import admin_functions as adfn\n",
    "import metastability as mfn\n",
    "\n",
    "# Define paths\n",
    "#----------------------------------------------------------------------\n",
    "Fcode = '/Users/dominicburrows/Dropbox/PhD/Analysis/my_scripts/GitHub/'\n",
    "Fdata = '/Users/dominicburrows/Dropbox/PhD/analysis/Project/'\n",
    "Fdoc = '/Users/dominicburrows/Documents/'\n",
    "F10t = '/Volumes/Dominic 10tb/Data2process/Project/' \n",
    "F10t2 = '/Volumes/Dominic 10tb2/Data2process/Project/'\n",
    "Ftm = '/Volumes/Dominic Time Machine/'\n",
    "Ffig = '/Users/dominicburrows/Dropbox/PhD/figures/'\n",
    "\n",
    "%load_ext autoreload\n",
    "sys.version"
   ]
  },
  {
   "cell_type": "code",
   "execution_count": 10,
   "metadata": {},
   "outputs": [
    {
     "data": {
      "text/plain": [
       "(['PTZ-WILDTYPE-02_2photon_sess-01-6dpf_BLN_run-01_metastates.npy',\n",
       "  'PTZ-WILDTYPE-04_2photon_sess-01-6dpf_BLN_run-01_metastates.npy',\n",
       "  'PTZ-WILDTYPE-05_2photon_sess-01-6dpf_BLN_run-01_metastates.npy',\n",
       "  'PTZ-WILDTYPE-07_2photon_sess-01-6dpf_BLN_run-01_metastates.npy',\n",
       "  'PTZ-WILDTYPE-08_2photon_sess-01-6dpf_BLN_run-01_metastates.npy',\n",
       "  'PTZ-WILDTYPE-09_2photon_sess-01-6dpf_BLN_run-01_metastates.npy',\n",
       "  'PTZ-WILDTYPE-10_2photon_sess-01-6dpf_BLN_run-01_metastates.npy',\n",
       "  'PTZ-WILDTYPE-11_2photon_sess-01-6dpf_BLN_run-01_metastates.npy',\n",
       "  'PTZ-WILDTYPE-12_2photon_sess-01-6dpf_BLN_run-09_metastates.npy'],\n",
       " ['PTZ-WILDTYPE-02_2photon_sess-01-6dpf_PTZ20_run-01_metastates.npy',\n",
       "  'PTZ-WILDTYPE-04_2photon_sess-01-6dpf_PTZ20_run-01_metastates.npy',\n",
       "  'PTZ-WILDTYPE-05_2photon_sess-01-6dpf_PTZ20_run-01_metastates.npy',\n",
       "  'PTZ-WILDTYPE-07_2photon_sess-01-6dpf_PTZ20_run-01_metastates.npy',\n",
       "  'PTZ-WILDTYPE-08_2photon_sess-01-6dpf_PTZ20_run-01_metastates.npy',\n",
       "  'PTZ-WILDTYPE-09_2photon_sess-01-6dpf_PTZ20_run-01_metastates.npy',\n",
       "  'PTZ-WILDTYPE-10_2photon_sess-01-6dpf_PTZ20_run-01_metastates.npy',\n",
       "  'PTZ-WILDTYPE-11_2photon_sess-01-6dpf_PTZ20_run-01_metastates.npy',\n",
       "  'PTZ-WILDTYPE-12_2photon_sess-01-6dpf_PTZ20_run-01_metastates.npy'])"
      ]
     },
     "execution_count": 10,
     "metadata": {},
     "output_type": "execute_result"
    }
   ],
   "source": [
    "bln_list = adfn.return_files(Fdata, 'PTZ-WILDTYPE', '*BLN*metastates.npy')\n",
    "p20_list = adfn.return_files(Fdata, 'PTZ-WILDTYPE', '*PTZ20*metastates.npy')\n",
    "data_list = bln_list, p20_list\n",
    "data_list"
   ]
  },
  {
   "cell_type": "code",
   "execution_count": 13,
   "metadata": {},
   "outputs": [
    {
     "data": {
      "text/plain": [
       "(['BLNLIGHTPTZ-FOXG1++-01_2photon_sess-01-6dpf_BLNLIGHT_run-01_labcoord.npy',\n",
       "  'BLNLIGHTPTZ-FOXG1++-01_2photon_sess-01-6dpf_PTZ02_run-01_labcoord.npy',\n",
       "  'BLNLIGHTPTZ-FOXG1++-02_2photon_sess-01-6dpf_BLNLIGHT_run-01_labcoord.npy',\n",
       "  'BLNLIGHTPTZ-FOXG1++-02_2photon_sess-01-6dpf_PTZ02_run-01_labcoord.npy',\n",
       "  'BLNLIGHTPTZ-FOXG1++-03_2photon_sess-01-6dpf_BLNLIGHT_run-01_labcoord.npy',\n",
       "  'BLNLIGHTPTZ-FOXG1++-03_2photon_sess-01-6dpf_PTZ02_run-01_labcoord.npy',\n",
       "  'BLNLIGHTPTZ-FOXG1++-04_2photon_sess-01-6dpf_BLNLIGHT_run-01_labcoord.npy',\n",
       "  'BLNLIGHTPTZ-FOXG1++-05_2photon_sess-01-6dpf_BLNLIGHT_run-01_labcoord.npy',\n",
       "  'BLNLIGHTPTZ-FOXG1++-05_2photon_sess-01-6dpf_PTZ02_run-01_labcoord.npy',\n",
       "  'BLNLIGHTPTZ-FOXG1+--02_2photon_sess-01-6dpf_BLNLIGHT_run-01_labcoord.npy',\n",
       "  'BLNLIGHTPTZ-FOXG1+--02_2photon_sess-01-6dpf_PTZ02_run-01_labcoord.npy',\n",
       "  'BLNLIGHTPTZ-FOXG1+--03_2photon_sess-01-6dpf_BLNLIGHT_run-01_labcoord.npy',\n",
       "  'BLNLIGHTPTZ-FOXG1+--03_2photon_sess-01-6dpf_PTZ02_run-01_labcoord.npy',\n",
       "  'BLNLIGHTPTZ-FOXG1+--04_2photon_sess-01-6dpf_BLNLIGHT_run-01_labcoord.npy',\n",
       "  'BLNLIGHTPTZ-FOXG1+--04_2photon_sess-01-6dpf_PTZ02_run-01_labcoord.npy',\n",
       "  'BLNLIGHTPTZ-FOXG1+--05_2photon_sess-01-6dpf_BLNLIGHT_run-01_labcoord.npy',\n",
       "  'BLNLIGHTPTZ-FOXG1+--05_2photon_sess-01-6dpf_PTZ02_run-01_labcoord.npy',\n",
       "  'BLNLIGHTPTZ-FOXG1+--06_2photon_sess-01-6dpf_BLNLIGHT_run-01_labcoord.npy',\n",
       "  'BLNLIGHTPTZ-FOXG1+--06_2photon_sess-01-6dpf_PTZ02_run-01_labcoord.npy',\n",
       "  'BLNLIGHTPTZ-FOXG1+--07_2photon_sess-01-6dpf_BLNLIGHT_run-01_labcoord.npy',\n",
       "  'BLNLIGHTPTZ-FOXG1+--07_2photon_sess-01-6dpf_PTZ02_run-01_labcoord.npy',\n",
       "  'BLNLIGHTPTZ-FOXG1+--08_2photon_sess-01-6dpf_BLNLIGHT_run-01_labcoord.npy',\n",
       "  'BLNLIGHTPTZ-FOXG1+--08_2photon_sess-01-6dpf_PTZ02_run-01_labcoord.npy',\n",
       "  'BLNLIGHTPTZ-FOXG1+--09_2photon_sess-01-6dpf_BLNLIGHT_run-01_labcoordtemp.npy',\n",
       "  'BLNLIGHTPTZ-FOXG1+--09_2photon_sess-01-6dpf_PTZ02_run-01_labcoordtemp.npy',\n",
       "  'BLNLIGHTPTZ-FOXG1---02_2photon_sess-01-6dpf_BLNLIGHT_run-01_labcoord.npy',\n",
       "  'BLNLIGHTPTZ-FOXG1---02_2photon_sess-01-6dpf_PTZ02_run-01_labcoord.npy',\n",
       "  'BLNLIGHTPTZ-FOXG1---03_2photon_sess-01-6dpf_BLNLIGHT_run-01_labcoord.npy',\n",
       "  'BLNLIGHTPTZ-FOXG1---03_2photon_sess-01-6dpf_PTZ02_run-01_labcoord.npy',\n",
       "  'BLNLIGHTPTZ-FOXG1---04_2photon_sess-01-6dpf_BLNLIGHT_run-01_labcoord.npy',\n",
       "  'BLNLIGHTPTZ-FOXG1---04_2photon_sess-01-6dpf_PTZ02_run-01_labcoord.npy',\n",
       "  'BLNLIGHTPTZ-FOXG1---05_2photon_sess-01-6dpf_BLNLIGHT_run-01_labcoord.npy',\n",
       "  'BLNLIGHTPTZ-FOXG1---05_2photon_sess-01-6dpf_PTZ02_run-01_labcoord.npy',\n",
       "  'BLNLIGHTPTZ-FOXG1---06_2photon_sess-01-6dpf_BLNLIGHT_run-01_labcoord.npy',\n",
       "  'BLNLIGHTPTZ-FOXG1---06_2photon_sess-01-6dpf_PTZ02_run-01_labcoord.npy'],\n",
       " ['BLNLIGHTPTZ-FOXG1++-01_2photon_sess-01-6dpf_BLNLIGHT_run-01_regbinarised.npy',\n",
       "  'BLNLIGHTPTZ-FOXG1++-01_2photon_sess-01-6dpf_PTZ02_run-01_regbinarised.npy',\n",
       "  'BLNLIGHTPTZ-FOXG1++-02_2photon_sess-01-6dpf_BLNLIGHT_run-01_regbinarised.npy',\n",
       "  'BLNLIGHTPTZ-FOXG1++-02_2photon_sess-01-6dpf_PTZ02_run-01_regbinarised.npy',\n",
       "  'BLNLIGHTPTZ-FOXG1++-03_2photon_sess-01-6dpf_BLNLIGHT_run-01_regbinarised.npy',\n",
       "  'BLNLIGHTPTZ-FOXG1++-03_2photon_sess-01-6dpf_PTZ02_run-01_regbinarised.npy',\n",
       "  'BLNLIGHTPTZ-FOXG1++-04_2photon_sess-01-6dpf_BLNLIGHT_run-01_regbinarised.npy',\n",
       "  'BLNLIGHTPTZ-FOXG1++-05_2photon_sess-01-6dpf_BLNLIGHT_run-01_regbinarised.npy',\n",
       "  'BLNLIGHTPTZ-FOXG1++-05_2photon_sess-01-6dpf_PTZ02_run-01_regbinarised.npy',\n",
       "  'BLNLIGHTPTZ-FOXG1+--02_2photon_sess-01-6dpf_BLNLIGHT_run-01_regbinarised.npy',\n",
       "  'BLNLIGHTPTZ-FOXG1+--02_2photon_sess-01-6dpf_PTZ02_run-01_regbinarised.npy',\n",
       "  'BLNLIGHTPTZ-FOXG1+--03_2photon_sess-01-6dpf_BLNLIGHT_run-01_regbinarised.npy',\n",
       "  'BLNLIGHTPTZ-FOXG1+--03_2photon_sess-01-6dpf_PTZ02_run-01_regbinarised.npy',\n",
       "  'BLNLIGHTPTZ-FOXG1+--04_2photon_sess-01-6dpf_BLNLIGHT_run-01_regbinarised.npy',\n",
       "  'BLNLIGHTPTZ-FOXG1+--04_2photon_sess-01-6dpf_PTZ02_run-01_regbinarised.npy',\n",
       "  'BLNLIGHTPTZ-FOXG1+--05_2photon_sess-01-6dpf_BLNLIGHT_run-01_regbinarised.npy',\n",
       "  'BLNLIGHTPTZ-FOXG1+--05_2photon_sess-01-6dpf_PTZ02_run-01_regbinarised.npy',\n",
       "  'BLNLIGHTPTZ-FOXG1+--06_2photon_sess-01-6dpf_BLNLIGHT_run-01_regbinarised.npy',\n",
       "  'BLNLIGHTPTZ-FOXG1+--06_2photon_sess-01-6dpf_PTZ02_run-01_regbinarised.npy',\n",
       "  'BLNLIGHTPTZ-FOXG1+--07_2photon_sess-01-6dpf_BLNLIGHT_run-01_regbinarised.npy',\n",
       "  'BLNLIGHTPTZ-FOXG1+--07_2photon_sess-01-6dpf_PTZ02_run-01_regbinarised.npy',\n",
       "  'BLNLIGHTPTZ-FOXG1+--08_2photon_sess-01-6dpf_BLNLIGHT_run-01_regbinarised.npy',\n",
       "  'BLNLIGHTPTZ-FOXG1+--08_2photon_sess-01-6dpf_PTZ02_run-01_regbinarised.npy',\n",
       "  'BLNLIGHTPTZ-FOXG1+--09_2photon_sess-01-6dpf_BLNLIGHT_run-01_regbinarisedtemp.npy',\n",
       "  'BLNLIGHTPTZ-FOXG1+--09_2photon_sess-01-6dpf_PTZ02_run-01_regbinarisedtemp.npy',\n",
       "  'BLNLIGHTPTZ-FOXG1---02_2photon_sess-01-6dpf_BLNLIGHT_run-01_regbinarised.npy',\n",
       "  'BLNLIGHTPTZ-FOXG1---02_2photon_sess-01-6dpf_PTZ02_run-01_regbinarised.npy',\n",
       "  'BLNLIGHTPTZ-FOXG1---03_2photon_sess-01-6dpf_BLNLIGHT_run-01_regbinarised.npy',\n",
       "  'BLNLIGHTPTZ-FOXG1---03_2photon_sess-01-6dpf_PTZ02_run-01_regbinarised.npy',\n",
       "  'BLNLIGHTPTZ-FOXG1---04_2photon_sess-01-6dpf_BLNLIGHT_run-01_regbinarised.npy',\n",
       "  'BLNLIGHTPTZ-FOXG1---04_2photon_sess-01-6dpf_PTZ02_run-01_regbinarised.npy',\n",
       "  'BLNLIGHTPTZ-FOXG1---05_2photon_sess-01-6dpf_BLNLIGHT_run-01_regbinarised.npy',\n",
       "  'BLNLIGHTPTZ-FOXG1---05_2photon_sess-01-6dpf_PTZ02_run-01_regbinarised.npy',\n",
       "  'BLNLIGHTPTZ-FOXG1---06_2photon_sess-01-6dpf_BLNLIGHT_run-01_regbinarised.npy',\n",
       "  'BLNLIGHTPTZ-FOXG1---06_2photon_sess-01-6dpf_PTZ02_run-01_regbinarised.npy'])"
      ]
     },
     "execution_count": 13,
     "metadata": {},
     "output_type": "execute_result"
    }
   ],
   "source": [
    "import glob\n",
    "experiment = 'BLNLIGHTPTZ-FOXG1'\n",
    "savepath = Fdata + experiment + os.sep \n",
    "os.chdir(Fdata +  experiment)\n",
    "binlist = sorted(glob.glob('*_regbin*'))\n",
    "coordlist =  sorted(glob.glob('*labcoord*'))\n",
    "coordlist, binlist"
   ]
  },
  {
   "cell_type": "code",
   "execution_count": null,
   "metadata": {},
   "outputs": [],
   "source": [
    "from sklearn.cluster import AffinityPropagation\n",
    "import copy\n",
    "\n",
    "data_list = binlist\n",
    "for e in range(len(data_list)):\n",
    "    \n",
    "    trace = np.load(data_list[e])\n",
    "    coord = np.load(coordlist[e])\n",
    "    sub_trace, sub_coord = adfn.select_region(trace, coord, 'Telencephalon')\n",
    "    data = sub_trace[:,1:9827].T\n",
    "    name = binlist[e][:binlist[e].find('run')+7]\n",
    "\n",
    "\n",
    "    #Empirical data\n",
    "    all_clust, sub_clust = mfn.affprop(data) #cluster with affinity prop on empirical data\n",
    "    emp_sim = mfn.Sim_loop(data, all_clust, sub_clust) #calculate similarity between clustered states\n",
    "\n",
    "    #Generate null data\n",
    "    rpks = np.zeros((data.shape))\n",
    "    for t in range(data.shape[0]):\n",
    "        temp_pks = data[t]\n",
    "        np.random.shuffle(temp_pks) \n",
    "        rpks[t] = temp_pks\n",
    "\n",
    "    null_all_clust, null_sub_clust = mfn.affprop(rpks) #cluster with affinity prop on null data\n",
    "    null_sim = mfn.Sim_loop(rpks, null_all_clust, null_sub_clust) #calculate similarity between clustered states\n",
    "    n_states = len(emp_sim > np.max(null_sim))\n",
    "    if len(emp_sim) > n_states:\n",
    "        print('null model removed a cluster')\n",
    "\n",
    "    fin_clust = sub_clust[emp_sim > max(null_sim)] #Find the clusters that occur above chance\n",
    "    p_state, m_dwell, v_dwell = mfn.state_stats(fin_clust, all_clust) #Calculate state transition statistics\n",
    "    null_m_dwell = mfn.null_states(fin_clust, data) #Calculate the mean dwell time with random dynamics\n",
    "    np.save(savepath + name +'metastates-Tel.npy', [n_states, p_state, m_dwell, null_m_dwell, v_dwell]) \n",
    "\n",
    "    print(str(e) + 'of ' + str(len(data_list)))"
   ]
  },
  {
   "cell_type": "code",
   "execution_count": 61,
   "metadata": {},
   "outputs": [
    {
     "data": {
      "text/plain": [
       "(['BLNLIGHTPTZ-FOXG1++-01_2photon_sess-01-6dpf_PTZ02_run-01_metastates-Tel.npy',\n",
       "  'BLNLIGHTPTZ-FOXG1++-02_2photon_sess-01-6dpf_PTZ02_run-01_metastates-Tel.npy',\n",
       "  'BLNLIGHTPTZ-FOXG1++-03_2photon_sess-01-6dpf_PTZ02_run-01_metastates-Tel.npy',\n",
       "  'BLNLIGHTPTZ-FOXG1++-05_2photon_sess-01-6dpf_PTZ02_run-01_metastates-Tel.npy'],\n",
       " ['BLNLIGHTPTZ-FOXG1+--02_2photon_sess-01-6dpf_PTZ02_run-01_metastates-Tel.npy',\n",
       "  'BLNLIGHTPTZ-FOXG1+--03_2photon_sess-01-6dpf_PTZ02_run-01_metastates-Tel.npy',\n",
       "  'BLNLIGHTPTZ-FOXG1+--04_2photon_sess-01-6dpf_PTZ02_run-01_metastates-Tel.npy',\n",
       "  'BLNLIGHTPTZ-FOXG1+--05_2photon_sess-01-6dpf_PTZ02_run-01_metastates-Tel.npy',\n",
       "  'BLNLIGHTPTZ-FOXG1+--06_2photon_sess-01-6dpf_PTZ02_run-01_metastates-Tel.npy',\n",
       "  'BLNLIGHTPTZ-FOXG1+--07_2photon_sess-01-6dpf_PTZ02_run-01_metastates-Tel.npy',\n",
       "  'BLNLIGHTPTZ-FOXG1+--08_2photon_sess-01-6dpf_PTZ02_run-01_metastates-Tel.npy',\n",
       "  'BLNLIGHTPTZ-FOXG1+--09_2photon_sess-01-6dpf_PTZ02_run-01_metastates-Tel.npy'],\n",
       " ['BLNLIGHTPTZ-FOXG1---02_2photon_sess-01-6dpf_PTZ02_run-01_metastates-Tel.npy',\n",
       "  'BLNLIGHTPTZ-FOXG1---03_2photon_sess-01-6dpf_PTZ02_run-01_metastates-Tel.npy',\n",
       "  'BLNLIGHTPTZ-FOXG1---04_2photon_sess-01-6dpf_PTZ02_run-01_metastates-Tel.npy',\n",
       "  'BLNLIGHTPTZ-FOXG1---05_2photon_sess-01-6dpf_PTZ02_run-01_metastates-Tel.npy',\n",
       "  'BLNLIGHTPTZ-FOXG1---06_2photon_sess-01-6dpf_PTZ02_run-01_metastates-Tel.npy'])"
      ]
     },
     "execution_count": 61,
     "metadata": {},
     "output_type": "execute_result"
    }
   ],
   "source": [
    "# BLN Avalanche distributions\n",
    "import glob\n",
    "# Visualise \n",
    "#---------------------------------------------------------------------------\n",
    "wt_list = sorted(glob.glob('*++*PTZ02_*metastates-*.npy*')) \n",
    "het_list = sorted(glob.glob('*+--*PTZ02_*metastates-*.npy*')) \n",
    "hom_list = sorted(glob.glob('*---*PTZ02_*metastates-*.npy*')) \n",
    "\n",
    "wt_list, het_list, hom_list"
   ]
  },
  {
   "cell_type": "code",
   "execution_count": null,
   "metadata": {},
   "outputs": [],
   "source": [
    "np.load(wt_list[0], allow_pickle=True)"
   ]
  },
  {
   "cell_type": "code",
   "execution_count": 26,
   "metadata": {},
   "outputs": [
    {
     "name": "stdout",
     "output_type": "stream",
     "text": [
      "0\n",
      "1\n",
      "2\n"
     ]
    }
   ],
   "source": [
    "l_list = wt_list, het_list, hom_list\n",
    "wt, het, hom = [],[],[]\n",
    "choose = 0\n",
    "for i in range(len(l_list)):\n",
    "    print(i)\n",
    "    for e in range(len(l_list[i])):\n",
    "        if i == 0:\n",
    "            wt = np.append(wt, np.load(l_list[i][e], allow_pickle=True)[choose])\n",
    "        if i == 1:\n",
    "            het = np.append(het, np.load(l_list[i][e],allow_pickle=True)[choose])\n",
    "            \n",
    "        if i == 2:\n",
    "            hom = np.append(hom, np.load(l_list[i][e],allow_pickle=True)[choose])"
   ]
  },
  {
   "cell_type": "code",
   "execution_count": 27,
   "metadata": {},
   "outputs": [],
   "source": [
    "point = np.zeros((17))\n",
    "\n",
    "p_spike_df = {}\n",
    "count=0\n",
    "choose = 0\n",
    "\n",
    "data = [wt, het, hom]\n",
    "\n",
    "for e in range(len(data)):\n",
    "    for i in range(len(data[e])):\n",
    "        point[count] = data[e][i]\n",
    "        count+=1\n",
    "\n",
    "p_spike_df = pd.DataFrame({\"data\":point , \"Labels\":  np.append(adfn.repeat_list('WT',4),np.append(adfn.repeat_list('HET',8),adfn.repeat_list('HOM',5)))})"
   ]
  },
  {
   "cell_type": "code",
   "execution_count": 28,
   "metadata": {},
   "outputs": [
    {
     "data": {
      "image/png": "[encoded data removed]",
      "text/plain": [
       "<Figure size 216x288 with 1 Axes>"
      ]
     },
     "metadata": {},
     "output_type": "display_data"
    }
   ],
   "source": [
    "import seaborn as sns\n",
    "\n",
    "from matplotlib.collections import PathCollection\n",
    "from matplotlib import cm\n",
    "sns.set(style=\"white\")\n",
    "\n",
    "colors1  = cm.Spectral_r(np.linspace(0,1,11))\n",
    "colors2 = ['grey','mediumturquoise','cornflowerblue']\n",
    "\n",
    "fig, ax = plt.subplots(figsize = (3,4))\n",
    "ax = sns.pointplot(x=\"Labels\", y=\"data\", data = p_spike_df, hue = 'Labels', palette = colors2, join=True, ci=0, scale=1, markers = '_')\n",
    "for artist in ax.lines:\n",
    "    artist.set_zorder(10)\n",
    "for artist in ax.findobj(PathCollection):\n",
    "    artist.set_zorder(11)\n",
    "#ax = sns.pointplot(x=\"Labels\", y=\"Exponent\", data=sizexdf, color = 'grey', linestyles = [\"--\"], ci = 0, scale=0.6)\n",
    "ax = sns.stripplot(x=\"Labels\", y=\"data\", data=p_spike_df, hue = 'Labels', palette = colors2, size = 15, jitter = True ,alpha = 0.7)\n",
    "\n",
    "plt.yticks(size = 20)\n",
    "\n",
    "points = ax.collections\n",
    "ax.spines['top'].set_visible(False)\n",
    "ax.spines['right'].set_visible(False)\n",
    "ax.spines['bottom'].set_visible(False)\n",
    "ax.set_xlabel(' ', size = '13')\n",
    "ax.set_ylabel('metastable states', size = '25')\n",
    "ax.get_xaxis().set_visible(False)\n",
    "#ax.set_xticklabels(['Baseline', 'Focal', 'Generalised'], size = 15)\n",
    "ax.legend_.remove()\n",
    "#plt.ylim(top = 2000, bottom = 0)\n",
    "\n",
    "plt.savefig(Ffig + 'foxg1_meta_comp_ptz.svg', transparent = True)\n",
    "plt.show()"
   ]
  },
  {
   "cell_type": "code",
   "execution_count": 29,
   "metadata": {},
   "outputs": [
    {
     "name": "stdout",
     "output_type": "stream",
     "text": [
      "105.5 15.792930908057144\n",
      "86.625 9.26771951452999\n",
      "73.6 10.414413089560064\n",
      "U = 13.0   p = 0.33529144723530485\n",
      "U = 4.0   p = 0.08895479749349122\n"
     ]
    }
   ],
   "source": [
    "from scipy import stats\n",
    "data = wt\n",
    "mean = np.mean(data)\n",
    "sem = stats.sem(data)\n",
    "print(mean, sem)\n",
    "\n",
    "from scipy import stats\n",
    "data = het\n",
    "mean = np.mean(data)\n",
    "sem = stats.sem(data)\n",
    "print(mean, sem)\n",
    "\n",
    "from scipy import stats\n",
    "data = hom\n",
    "mean = np.mean(data)\n",
    "sem = stats.sem(data)\n",
    "print(mean, sem)\n",
    "\n",
    "#BLN - SZ\n",
    "alpha = 0.05/2\n",
    "\n",
    "U, p = stats.mannwhitneyu(wt, het)\n",
    "print('U = ' + str(U) +  '   p = ' + str(p))\n",
    "\n",
    "    \n",
    "U, p = stats.mannwhitneyu(wt, hom)\n",
    "print('U = ' + str(U) +  '   p = ' + str(p))\n",
    "\n"
   ]
  },
  {
   "cell_type": "code",
   "execution_count": 23,
   "metadata": {},
   "outputs": [
    {
     "name": "stdout",
     "output_type": "stream",
     "text": [
      "U = 18.0   p = 0.4131001016894041\n",
      "U = 9.5   p = 0.30020092404848425\n"
     ]
    }
   ],
   "source": [
    "#BLN - SZ\n",
    "alpha = 0.05/2\n",
    "\n",
    "U, p = stats.mannwhitneyu(wt, het)\n",
    "print('U = ' + str(U) +  '   p = ' + str(p))\n",
    "\n",
    "    \n",
    "U, p = stats.mannwhitneyu(wt, hom)\n",
    "print('U = ' + str(U) +  '   p = ' + str(p))\n"
   ]
  },
  {
   "cell_type": "code",
   "execution_count": 43,
   "metadata": {},
   "outputs": [
    {
     "data": {
      "text/plain": [
       "0.07298257169559874"
      ]
     },
     "execution_count": 43,
     "metadata": {},
     "output_type": "execute_result"
    }
   ],
   "source": [
    "np.mean(np.load(wt_list[0], allow_pickle=True)[2]) - np.load(wt_list[0], allow_pickle=True)[3]"
   ]
  },
  {
   "cell_type": "code",
   "execution_count": 56,
   "metadata": {},
   "outputs": [
    {
     "name": "stdout",
     "output_type": "stream",
     "text": [
      "0\n",
      "1\n",
      "2\n"
     ]
    }
   ],
   "source": [
    "l_list = wt_list, het_list, hom_list\n",
    "wt, het, hom = [],[],[]\n",
    "choose = 0\n",
    "for i in range(len(l_list)):\n",
    "    print(i)\n",
    "    for e in range(len(l_list[i])):\n",
    "        if i == 0:\n",
    "            wt = np.append(wt, np.mean(np.load(l_list[i][e], allow_pickle=True)[2])  - np.load(l_list[i][e], allow_pickle=True)[3])\n",
    "        if i == 1:\n",
    "            het = np.append(het, np.mean(np.load(l_list[i][e], allow_pickle=True)[2])  - np.load(l_list[i][e], allow_pickle=True)[3])\n",
    "            \n",
    "        if i == 2:\n",
    "            hom = np.append(hom, np.mean(np.load(l_list[i][e], allow_pickle=True)[2])  - np.load(l_list[i][e], allow_pickle=True)[3])"
   ]
  },
  {
   "cell_type": "code",
   "execution_count": 57,
   "metadata": {},
   "outputs": [],
   "source": [
    "point = np.zeros((17))\n",
    "\n",
    "p_spike_df = {}\n",
    "count=0\n",
    "choose = 0\n",
    "\n",
    "data = [wt, het, hom]\n",
    "\n",
    "for e in range(len(data)):\n",
    "    for i in range(len(data[e])):\n",
    "        point[count] = data[e][i]\n",
    "        count+=1\n",
    "\n",
    "p_spike_df = pd.DataFrame({\"data\":point , \"Labels\":  np.append(adfn.repeat_list('WT',4),np.append(adfn.repeat_list('HET',8),adfn.repeat_list('HOM',5)))})"
   ]
  },
  {
   "cell_type": "code",
   "execution_count": 60,
   "metadata": {},
   "outputs": [
    {
     "data": {
      "image/png": "[encoded data removed]",
      "text/plain": [
       "<Figure size 216x288 with 1 Axes>"
      ]
     },
     "metadata": {},
     "output_type": "display_data"
    }
   ],
   "source": [
    "import seaborn as sns\n",
    "\n",
    "from matplotlib.collections import PathCollection\n",
    "from matplotlib import cm\n",
    "sns.set(style=\"white\")\n",
    "\n",
    "colors1  = cm.Spectral_r(np.linspace(0,1,11))\n",
    "colors2 = ['grey','mediumturquoise','cornflowerblue']\n",
    "\n",
    "fig, ax = plt.subplots(figsize = (3,4))\n",
    "ax = sns.pointplot(x=\"Labels\", y=\"data\", data = p_spike_df, hue = 'Labels', palette = colors2, join=True, ci=0, scale=1, markers = '_')\n",
    "for artist in ax.lines:\n",
    "    artist.set_zorder(10)\n",
    "for artist in ax.findobj(PathCollection):\n",
    "    artist.set_zorder(11)\n",
    "#ax = sns.pointplot(x=\"Labels\", y=\"Exponent\", data=sizexdf, color = 'grey', linestyles = [\"--\"], ci = 0, scale=0.6)\n",
    "ax = sns.stripplot(x=\"Labels\", y=\"data\", data=p_spike_df, hue = 'Labels', palette = colors2, size = 15, jitter = True ,alpha = 0.7)\n",
    "\n",
    "plt.yticks(size = 20)\n",
    "\n",
    "points = ax.collections\n",
    "ax.spines['top'].set_visible(False)\n",
    "ax.spines['right'].set_visible(False)\n",
    "ax.spines['bottom'].set_visible(False)\n",
    "ax.set_xlabel(' ', size = '13')\n",
    "ax.set_ylabel('metastable states', size = '25')\n",
    "ax.get_xaxis().set_visible(False)\n",
    "#ax.set_xticklabels(['Baseline', 'Focal', 'Generalised'], size = 15)\n",
    "ax.legend_.remove()\n",
    "#plt.ylim(top = 2000, bottom = 0)\n",
    "\n",
    "plt.savefig(Ffig + 'foxg1_metadwell_comp_ptz.svg', transparent = True)\n",
    "plt.show()"
   ]
  },
  {
   "cell_type": "code",
   "execution_count": 59,
   "metadata": {},
   "outputs": [
    {
     "name": "stdout",
     "output_type": "stream",
     "text": [
      "0.042186486500242315 0.012293081300236978\n",
      "0.06398600998569404 0.02736872369575797\n",
      "0.032069434435695855 0.016143303756344693\n",
      "U = 16.0   p = 0.46616218667416665\n",
      "U = 6.0   p = 0.1956336396413197\n"
     ]
    }
   ],
   "source": [
    "from scipy import stats\n",
    "data = wt\n",
    "mean = np.mean(data)\n",
    "sem = stats.sem(data)\n",
    "print(mean, sem)\n",
    "\n",
    "from scipy import stats\n",
    "data = het\n",
    "mean = np.mean(data)\n",
    "sem = stats.sem(data)\n",
    "print(mean, sem)\n",
    "\n",
    "from scipy import stats\n",
    "data = hom\n",
    "mean = np.mean(data)\n",
    "sem = stats.sem(data)\n",
    "print(mean, sem)\n",
    "\n",
    "#BLN - SZ\n",
    "alpha = 0.05/2\n",
    "\n",
    "U, p = stats.mannwhitneyu(wt, het)\n",
    "print('U = ' + str(U) +  '   p = ' + str(p))\n",
    "\n",
    "    \n",
    "U, p = stats.mannwhitneyu(wt, hom)\n",
    "print('U = ' + str(U) +  '   p = ' + str(p))\n",
    "\n"
   ]
  },
  {
   "cell_type": "markdown",
   "metadata": {},
   "source": [
    "# Calculate metastablility statistics"
   ]
  },
  {
   "cell_type": "code",
   "execution_count": 3,
   "metadata": {},
   "outputs": [
    {
     "data": {
      "text/plain": [
       "(['PTZ-WILDTYPE-02_2photon_sess-01-6dpf_BLN_run-01_cutrealtrace.npy',\n",
       "  'PTZ-WILDTYPE-04_2photon_sess-01-6dpf_BLN_run-01_cutrealtrace.npy',\n",
       "  'PTZ-WILDTYPE-05_2photon_sess-01-6dpf_BLN_run-01_cutrealtrace.npy',\n",
       "  'PTZ-WILDTYPE-06_2photon_sess-01-6dpf_BLN_run-01_cutrealtrace.npy',\n",
       "  'PTZ-WILDTYPE-07_2photon_sess-01-6dpf_BLN_run-01_cutrealtrace.npy',\n",
       "  'PTZ-WILDTYPE-08_2photon_sess-01-6dpf_BLN_run-01_cutrealtrace.npy',\n",
       "  'PTZ-WILDTYPE-09_2photon_sess-01-6dpf_BLN_run-01_cutrealtrace.npy',\n",
       "  'PTZ-WILDTYPE-10_2photon_sess-01-6dpf_BLN_run-01_cutrealtrace.npy',\n",
       "  'PTZ-WILDTYPE-11_2photon_sess-01-6dpf_BLN_run-01_cutrealtrace.npy',\n",
       "  'PTZ-WILDTYPE-12_2photon_sess-01-6dpf_BLN_run-09_cutrealtrace.npy'],\n",
       " ['PTZ-WILDTYPE-02_2photon_sess-01-6dpf_PTZ05_run-01_cutrealtrace.npy',\n",
       "  'PTZ-WILDTYPE-04_2photon_sess-01-6dpf_PTZ05_run-01_cutrealtrace.npy',\n",
       "  'PTZ-WILDTYPE-05_2photon_sess-01-6dpf_PTZ05_run-01_cutrealtrace.npy',\n",
       "  'PTZ-WILDTYPE-06_2photon_sess-01-6dpf_PTZ05_run-01_cutrealtrace.npy',\n",
       "  'PTZ-WILDTYPE-07_2photon_sess-01-6dpf_PTZ05_run-01_cutrealtrace.npy',\n",
       "  'PTZ-WILDTYPE-08_2photon_sess-01-6dpf_PTZ05_run-01_cutrealtrace.npy',\n",
       "  'PTZ-WILDTYPE-09_2photon_sess-01-6dpf_PTZ05_run-01_cutrealtrace.npy',\n",
       "  'PTZ-WILDTYPE-10_2photon_sess-01-6dpf_PTZ05_run-01_cutrealtrace.npy',\n",
       "  'PTZ-WILDTYPE-11_2photon_sess-01-6dpf_PTZ05_run-01_cutrealtrace.npy',\n",
       "  'PTZ-WILDTYPE-12_2photon_sess-01-6dpf_PTZ05_run-01_cutrealtrace.npy'],\n",
       " ['PTZ-WILDTYPE-02_2photon_sess-01-6dpf_PTZ20_run-01_cutrealtrace.npy',\n",
       "  'PTZ-WILDTYPE-04_2photon_sess-01-6dpf_PTZ20_run-01_cutrealtrace.npy',\n",
       "  'PTZ-WILDTYPE-05_2photon_sess-01-6dpf_PTZ20_run-01_cutrealtrace.npy',\n",
       "  'PTZ-WILDTYPE-06_2photon_sess-01-6dpf_PTZ20_run-01_cutrealtrace.npy',\n",
       "  'PTZ-WILDTYPE-07_2photon_sess-01-6dpf_PTZ20_run-01_cutrealtrace.npy',\n",
       "  'PTZ-WILDTYPE-08_2photon_sess-01-6dpf_PTZ20_run-01_cutrealtrace.npy',\n",
       "  'PTZ-WILDTYPE-09_2photon_sess-01-6dpf_PTZ20_run-01_cutrealtrace.npy',\n",
       "  'PTZ-WILDTYPE-10_2photon_sess-01-6dpf_PTZ20_run-01_cutrealtrace.npy',\n",
       "  'PTZ-WILDTYPE-11_2photon_sess-01-6dpf_PTZ20_run-01_cutrealtrace.npy',\n",
       "  'PTZ-WILDTYPE-12_2photon_sess-01-6dpf_PTZ20_run-01_cutrealtrace.npy'])"
      ]
     },
     "execution_count": 3,
     "metadata": {},
     "output_type": "execute_result"
    }
   ],
   "source": [
    "bln = adfn.return_files(Fdata, 'PTZ-WILDTYPE', '*BLN*cutrealtrace*')\n",
    "p5 = adfn.return_files(Fdata, 'PTZ-WILDTYPE', '*PTZ05*cutrealtrace*')\n",
    "p20 = adfn.return_files(Fdata, 'PTZ-WILDTYPE', '*PTZ20*cutrealtrace*')\n",
    "bln, p5, p20"
   ]
  },
  {
   "cell_type": "code",
   "execution_count": 5,
   "metadata": {},
   "outputs": [],
   "source": [
    "#find PCs\n",
    "def PC(input_data, n_components):\n",
    "    from sklearn import decomposition\n",
    "\n",
    "    pca = decomposition.PCA(n_components)\n",
    "    fit = pca.fit(input_data)\n",
    "    output_data = fit.components_\n",
    "    return(output_data)"
   ]
  },
  {
   "cell_type": "code",
   "execution_count": 9,
   "metadata": {},
   "outputs": [
    {
     "data": {
      "text/plain": [
       "array([   3,   18,   33,   48,   63,   78,   93,  108,  123,  138,  153,\n",
       "        168,  183,  198,  213,  228,  243,  258,  273,  288,  303,  318,\n",
       "        333,  348,  363,  378,  393,  408,  423,  438,  453,  468,  483,\n",
       "        498,  513,  528,  543,  558,  573,  588,  603,  618,  633,  648,\n",
       "        663,  678,  693,  708,  723,  738,  753,  768,  783,  798,  813,\n",
       "        828,  843,  858,  873,  888,  903,  918,  933,  948,  963,  978,\n",
       "        993, 1008, 1023, 1038, 1053, 1068, 1083, 1098, 1113, 1128, 1143,\n",
       "       1158, 1173, 1188, 1203, 1218, 1233, 1248, 1263, 1278, 1293, 1308,\n",
       "       1323, 1338, 1353, 1368, 1383, 1398, 1413, 1428, 1443, 1458, 1473,\n",
       "       1488, 1503, 1518, 1533, 1548, 1563, 1578, 1593, 1608, 1623, 1638,\n",
       "       1653, 1668, 1683, 1698, 1713, 1728, 1743, 1758, 1773, 1788, 1803,\n",
       "       1818, 1833, 1848, 1863, 1878, 1893, 1908, 1923, 1938, 1953, 1968,\n",
       "       1983, 1998, 2013, 2028, 2043, 2058, 2073, 2088, 2103, 2118, 2133,\n",
       "       2148, 2163, 2178, 2193, 2208, 2223, 2238, 2253, 2268, 2283, 2298,\n",
       "       2313, 2328, 2343, 2358, 2373, 2388, 2403, 2418, 2433, 2448, 2463,\n",
       "       2478, 2493, 2508, 2523, 2538, 2553, 2568, 2583, 2598, 2613, 2628,\n",
       "       2643, 2658, 2673, 2688, 2703, 2718, 2733, 2748, 2763, 2778, 2793,\n",
       "       2808, 2823, 2838, 2853, 2868, 2883, 2898, 2913, 2928, 2943, 2958,\n",
       "       2973, 2988, 3003, 3018, 3033, 3048, 3063, 3078, 3093, 3108, 3123,\n",
       "       3138, 3153, 3168, 3183, 3198, 3213, 3228, 3243, 3258, 3273, 3288,\n",
       "       3303, 3318, 3333, 3348, 3363, 3378, 3393, 3408, 3423, 3438, 3453,\n",
       "       3468, 3483, 3498, 3513, 3528, 3543, 3558, 3573, 3588, 3603, 3618,\n",
       "       3633, 3648, 3663, 3678, 3693, 3708, 3723, 3738, 3753, 3768, 3783,\n",
       "       3798, 3813, 3828, 3843, 3858, 3873, 3888, 3903, 3918, 3933, 3948,\n",
       "       3963, 3978, 3993, 4008, 4023, 4038, 4053, 4068, 4083, 4098, 4113,\n",
       "       4128, 4143, 4158, 4173, 4188, 4203, 4218, 4233, 4248, 4263, 4278,\n",
       "       4293, 4308, 4323, 4338, 4353, 4368, 4383, 4398, 4413, 4428, 4443,\n",
       "       4458, 4473, 4488, 4503, 4518, 4533, 4548, 4563, 4578, 4593, 4608,\n",
       "       4623, 4638, 4653, 4668, 4683, 4698, 4713, 4728, 4743, 4758, 4773,\n",
       "       4788, 4803, 4818, 4833, 4848, 4863, 4878, 4893, 4908])"
      ]
     },
     "execution_count": 9,
     "metadata": {},
     "output_type": "execute_result"
    }
   ],
   "source": [
    "comp_list = np.arange(3, 4914, 15)\n",
    "comp_list"
   ]
  },
  {
   "cell_type": "code",
   "execution_count": null,
   "metadata": {},
   "outputs": [],
   "source": [
    "%autoreload\n",
    "#Calculate metastability using first 3 PCs\n",
    "meta_dict = {}\n",
    "\n",
    "data_list = [bln, p20]\n",
    "for n_comp in comp_list:\n",
    "    b_list, sz_list = list(range(len(bln))),list(range(len(bln)))\n",
    "    for i in range(len(bln)):\n",
    "        for e in range(len(data_list)):\n",
    "            data = PC(np.load(data_list[e][i]), 3)[:,1:4913]\n",
    "            name = data_list[e][i]\n",
    "\n",
    "            #Empirical data\n",
    "            all_clust, sub_clust = mfn.affprop(data) #cluster with affinity prop on empirical data\n",
    "            emp_sim = mfn.Sim_loop(data, all_clust, sub_clust) #calculate similarity between clustered states\n",
    "\n",
    "            #Generate null data\n",
    "            rpks = np.zeros((data.shape))\n",
    "            for t in range(data.shape[0]):\n",
    "                temp_pks = data[t]\n",
    "                np.random.shuffle(temp_pks) \n",
    "                rpks[t] = temp_pks\n",
    "\n",
    "            null_all_clust, null_sub_clust = mfn.affprop(rpks) #cluster with affinity prop on null data\n",
    "            null_sim = mfn.Sim_loop(rpks, null_all_clust, null_sub_clust) #calculate similarity between clustered states\n",
    "            n_states = len(emp_sim > np.max(null_sim))\n",
    "            \n",
    "            if e == 0:\n",
    "                b_list[i] = n_states\n",
    "            elif e == 1:\n",
    "                sz_list[i] = n_states\n",
    "            \n",
    "\n",
    "    meta_dict.update( { str(n_comp) :  (b_list, sz_list) } )\n",
    "    print(n_comp)\n",
    "np.save(Fdata + 'PTZ-WILDTYPE' + os.sep + 'metastates_PC_rel.npy', meta_dict)\n"
   ]
  },
  {
   "cell_type": "code",
   "execution_count": null,
   "metadata": {},
   "outputs": [],
   "source": [
    "from sklearn.cluster import AffinityPropagation\n",
    "import copy\n",
    "\n",
    "data_list = bln_blist, foc_blist, gen_blist\n",
    "for e in range(len(data_list)):\n",
    "  for i in range(len(data_list[e])):\n",
    "    data = np.load(data_list[e][i])[:,1:4913].T\n",
    "    name = data_list[e][i]\n",
    "\n",
    "    #Empirical data\n",
    "    all_clust, sub_clust = mfn.affprop(data) #cluster with affinity prop on empirical data\n",
    "    emp_sim = mfn.Sim_loop(data, all_clust, sub_clust) #calculate similarity between clustered states\n",
    "\n",
    "    #Generate null data\n",
    "    rpks = np.zeros((data.shape))\n",
    "    for t in range(data.shape[0]):\n",
    "        temp_pks = data[t]\n",
    "        np.random.shuffle(temp_pks) \n",
    "        rpks[t] = temp_pks\n",
    "\n",
    "    null_all_clust, null_sub_clust = mfn.affprop(rpks) #cluster with affinity prop on null data\n",
    "    null_sim = mfn.Sim_loop(rpks, null_all_clust, null_sub_clust) #calculate similarity between clustered states\n",
    "    n_states = len(emp_sim > np.max(null_sim))\n",
    "    if len(emp_sim) > n_states:\n",
    "      print('null model removed a cluster')\n",
    "\n",
    "    fin_clust = sub_clust[emp_sim > max(null_sim)] #Find the clusters that occur above chance\n",
    "    p_state, m_dwell, v_dwell = mfn.state_stats(fin_clust, all_clust) #Calculate state transition statistics\n",
    "    null_m_dwell = mfn.null_states(fin_clust, data) #Calculate the mean dwell time with random dynamics\n",
    "    np.save(d_path +  name[:name.find('run')+6] + '_' +'metastates.npy', [n_states, p_state, m_dwell, null_m_dwell, v_dwell]) \n",
    "\n",
    "  print('Done' + str(e))"
   ]
  },
  {
   "cell_type": "code",
   "execution_count": 65,
   "metadata": {},
   "outputs": [
    {
     "data": {
      "text/plain": [
       "(['PTZ-WILDTYPE-02_2photon_sess-01-6dpf_BLN_run-01_metastates.npy',\n",
       "  'PTZ-WILDTYPE-04_2photon_sess-01-6dpf_BLN_run-01_metastates.npy',\n",
       "  'PTZ-WILDTYPE-05_2photon_sess-01-6dpf_BLN_run-01_metastates.npy',\n",
       "  'PTZ-WILDTYPE-07_2photon_sess-01-6dpf_BLN_run-01_metastates.npy',\n",
       "  'PTZ-WILDTYPE-08_2photon_sess-01-6dpf_BLN_run-01_metastates.npy',\n",
       "  'PTZ-WILDTYPE-09_2photon_sess-01-6dpf_BLN_run-01_metastates.npy',\n",
       "  'PTZ-WILDTYPE-10_2photon_sess-01-6dpf_BLN_run-01_metastates.npy',\n",
       "  'PTZ-WILDTYPE-11_2photon_sess-01-6dpf_BLN_run-01_metastates.npy',\n",
       "  'PTZ-WILDTYPE-12_2photon_sess-01-6dpf_BLN_run-09_metastates.npy'],\n",
       " ['PTZ-WILDTYPE-02_2photon_sess-01-6dpf_PTZ20_run-01_metastates.npy',\n",
       "  'PTZ-WILDTYPE-04_2photon_sess-01-6dpf_PTZ20_run-01_metastates.npy',\n",
       "  'PTZ-WILDTYPE-05_2photon_sess-01-6dpf_PTZ20_run-01_metastates.npy',\n",
       "  'PTZ-WILDTYPE-07_2photon_sess-01-6dpf_PTZ20_run-01_metastates.npy',\n",
       "  'PTZ-WILDTYPE-08_2photon_sess-01-6dpf_PTZ20_run-01_metastates.npy',\n",
       "  'PTZ-WILDTYPE-09_2photon_sess-01-6dpf_PTZ20_run-01_metastates.npy',\n",
       "  'PTZ-WILDTYPE-10_2photon_sess-01-6dpf_PTZ20_run-01_metastates.npy',\n",
       "  'PTZ-WILDTYPE-11_2photon_sess-01-6dpf_PTZ20_run-01_metastates.npy',\n",
       "  'PTZ-WILDTYPE-12_2photon_sess-01-6dpf_PTZ20_run-01_metastates.npy'])"
      ]
     },
     "execution_count": 65,
     "metadata": {},
     "output_type": "execute_result"
    }
   ],
   "source": [
    "# Dataset 4 returns 1 cluster - remove\n",
    "data_list"
   ]
  },
  {
   "cell_type": "code",
   "execution_count": 66,
   "metadata": {},
   "outputs": [
    {
     "data": {
      "text/html": [
       "<div>\n",
       "<style scoped>\n",
       "    .dataframe tbody tr th:only-of-type {\n",
       "        vertical-align: middle;\n",
       "    }\n",
       "\n",
       "    .dataframe tbody tr th {\n",
       "        vertical-align: top;\n",
       "    }\n",
       "\n",
       "    .dataframe thead th {\n",
       "        text-align: right;\n",
       "    }\n",
       "</style>\n",
       "<table border=\"1\" class=\"dataframe\">\n",
       "  <thead>\n",
       "    <tr style=\"text-align: right;\">\n",
       "      <th></th>\n",
       "      <th>States</th>\n",
       "      <th>condition</th>\n",
       "      <th>subject</th>\n",
       "    </tr>\n",
       "  </thead>\n",
       "  <tbody>\n",
       "    <tr>\n",
       "      <th>0</th>\n",
       "      <td>44</td>\n",
       "      <td>BLN</td>\n",
       "      <td>0</td>\n",
       "    </tr>\n",
       "    <tr>\n",
       "      <th>1</th>\n",
       "      <td>25</td>\n",
       "      <td>BLN</td>\n",
       "      <td>1</td>\n",
       "    </tr>\n",
       "    <tr>\n",
       "      <th>2</th>\n",
       "      <td>14</td>\n",
       "      <td>BLN</td>\n",
       "      <td>2</td>\n",
       "    </tr>\n",
       "    <tr>\n",
       "      <th>3</th>\n",
       "      <td>20</td>\n",
       "      <td>BLN</td>\n",
       "      <td>3</td>\n",
       "    </tr>\n",
       "    <tr>\n",
       "      <th>4</th>\n",
       "      <td>14</td>\n",
       "      <td>BLN</td>\n",
       "      <td>4</td>\n",
       "    </tr>\n",
       "    <tr>\n",
       "      <th>5</th>\n",
       "      <td>17</td>\n",
       "      <td>BLN</td>\n",
       "      <td>5</td>\n",
       "    </tr>\n",
       "    <tr>\n",
       "      <th>6</th>\n",
       "      <td>13</td>\n",
       "      <td>BLN</td>\n",
       "      <td>6</td>\n",
       "    </tr>\n",
       "    <tr>\n",
       "      <th>7</th>\n",
       "      <td>15</td>\n",
       "      <td>BLN</td>\n",
       "      <td>7</td>\n",
       "    </tr>\n",
       "    <tr>\n",
       "      <th>8</th>\n",
       "      <td>26</td>\n",
       "      <td>BLN</td>\n",
       "      <td>8</td>\n",
       "    </tr>\n",
       "    <tr>\n",
       "      <th>9</th>\n",
       "      <td>28</td>\n",
       "      <td>PTZ20</td>\n",
       "      <td>0</td>\n",
       "    </tr>\n",
       "    <tr>\n",
       "      <th>10</th>\n",
       "      <td>7</td>\n",
       "      <td>PTZ20</td>\n",
       "      <td>1</td>\n",
       "    </tr>\n",
       "    <tr>\n",
       "      <th>11</th>\n",
       "      <td>12</td>\n",
       "      <td>PTZ20</td>\n",
       "      <td>2</td>\n",
       "    </tr>\n",
       "    <tr>\n",
       "      <th>12</th>\n",
       "      <td>10</td>\n",
       "      <td>PTZ20</td>\n",
       "      <td>3</td>\n",
       "    </tr>\n",
       "    <tr>\n",
       "      <th>13</th>\n",
       "      <td>5</td>\n",
       "      <td>PTZ20</td>\n",
       "      <td>4</td>\n",
       "    </tr>\n",
       "    <tr>\n",
       "      <th>14</th>\n",
       "      <td>7</td>\n",
       "      <td>PTZ20</td>\n",
       "      <td>5</td>\n",
       "    </tr>\n",
       "    <tr>\n",
       "      <th>15</th>\n",
       "      <td>9</td>\n",
       "      <td>PTZ20</td>\n",
       "      <td>6</td>\n",
       "    </tr>\n",
       "    <tr>\n",
       "      <th>16</th>\n",
       "      <td>16</td>\n",
       "      <td>PTZ20</td>\n",
       "      <td>7</td>\n",
       "    </tr>\n",
       "    <tr>\n",
       "      <th>17</th>\n",
       "      <td>13</td>\n",
       "      <td>PTZ20</td>\n",
       "      <td>8</td>\n",
       "    </tr>\n",
       "  </tbody>\n",
       "</table>\n",
       "</div>"
      ],
      "text/plain": [
       "    States condition  subject\n",
       "0       44       BLN        0\n",
       "1       25       BLN        1\n",
       "2       14       BLN        2\n",
       "3       20       BLN        3\n",
       "4       14       BLN        4\n",
       "5       17       BLN        5\n",
       "6       13       BLN        6\n",
       "7       15       BLN        7\n",
       "8       26       BLN        8\n",
       "9       28     PTZ20        0\n",
       "10       7     PTZ20        1\n",
       "11      12     PTZ20        2\n",
       "12      10     PTZ20        3\n",
       "13       5     PTZ20        4\n",
       "14       7     PTZ20        5\n",
       "15       9     PTZ20        6\n",
       "16      16     PTZ20        7\n",
       "17      13     PTZ20        8"
      ]
     },
     "execution_count": 66,
     "metadata": {},
     "output_type": "execute_result"
    }
   ],
   "source": [
    "#Load data\n",
    "from matplotlib import cm\n",
    "\n",
    "\n",
    "plot_list = list(range(len(data_list[0])*2))\n",
    "count=0\n",
    "for i,_ in enumerate(data_list):\n",
    "    for e,_ in enumerate(data_list[i]):\n",
    "\n",
    "        plot_list[count] = np.load(data_list[i][e], allow_pickle=True)[0]\n",
    "        count+=1\n",
    "\n",
    "cond = ['BLN', 'PTZ20']\n",
    "num = np.arange(0, len(data_list[0]))\n",
    "cond_data = adfn.cond_list(data_list, cond, 'dataset')\n",
    "num_data = adfn.cond_list(data_list, num, 'datapoint')\n",
    "mean_colours = ['k', 'firebrick']\n",
    "colours  = cm.Spectral_r(np.linspace(0,1,len(data_list[0])))\n",
    "m_df = pd.DataFrame( {'States':   plot_list, 'condition': cond_data, 'subject': num_data } )\n",
    "m_df\n"
   ]
  },
  {
   "cell_type": "code",
   "execution_count": 67,
   "metadata": {},
   "outputs": [
    {
     "data": {
      "image/png": "[encoded data removed]",
      "text/plain": [
       "<Figure size 216x360 with 1 Axes>"
      ]
     },
     "metadata": {},
     "output_type": "display_data"
    }
   ],
   "source": [
    "adfn.bar_scatter_plot(m_df, 'States', (3, 5), 7, 20, mean_colours, colours)"
   ]
  },
  {
   "cell_type": "code",
   "execution_count": 68,
   "metadata": {
    "id": "dV9-rTF4s8uJ"
   },
   "outputs": [
    {
     "name": "stdout",
     "output_type": "stream",
     "text": [
      "BLN mean = 20.88888888888889  , std = 3.3017017684674723\n",
      "PTZ20 mean = 11.88888888888889  , std = 2.312072449631646\n"
     ]
    }
   ],
   "source": [
    "bln = m_df[m_df['condition'] == 'BLN']['States']\n",
    "p20 = m_df[m_df['condition'] == 'PTZ20']['States']\n",
    "m_list = bln, p20\n",
    "for i in range(len(m_list)):\n",
    "    adfn.mean_std(cond[i], m_list[i])"
   ]
  },
  {
   "cell_type": "code",
   "execution_count": 69,
   "metadata": {
    "colab": {
     "base_uri": "https://localhost:8080/"
    },
    "id": "jmUG9lSfaeUn",
    "outputId": "560654ff-7216-479e-a0a3-2f3c3a39148d"
   },
   "outputs": [
    {
     "name": "stdout",
     "output_type": "stream",
     "text": [
      "At least one sample is non-Gaussian - performing non-parametric test\n",
      "Samples are significantly different\n",
      "w = 1.0   p = 0.0078125\n"
     ]
    },
    {
     "name": "stderr",
     "output_type": "stream",
     "text": [
      "/Users/dominicburrows/anaconda3/lib/python3.7/site-packages/scipy/stats/stats.py:1604: UserWarning: kurtosistest only valid for n>=20 ... continuing anyway, n=9\n",
      "  \"anyway, n=%i\" % int(n))\n"
     ]
    }
   ],
   "source": [
    "adfn.stats_2samp(bln, p20, 0.05, 1, 'rel')"
   ]
  },
  {
   "cell_type": "code",
   "execution_count": 77,
   "metadata": {},
   "outputs": [],
   "source": [
    "#Load dwell times\n",
    "data_type = 2 #dwell time per state\n",
    "dwellt_list, null_dwellt_list = list(range(len(data_list))),list(range(len(data_list)))\n",
    "for i in range(len(data_list)):\n",
    "    dwellt, null_dwellt = np.zeros(len(data_list[i])),np.zeros(len(data_list[i]))\n",
    "    for e in range(len(dwellt)):\n",
    "        dwellt[e] = np.mean(np.load(data_list[i][e], allow_pickle=True)[data_type])\n",
    "        null_dwellt[e] = np.load(data_list[i][e], allow_pickle=True)[data_type + 1]\n",
    "        dwellt_list[i] = dwellt\n",
    "        null_dwellt_list[i] = null_dwellt"
   ]
  },
  {
   "cell_type": "code",
   "execution_count": 79,
   "metadata": {},
   "outputs": [],
   "source": [
    "#Compare dwell times against null models\n",
    "\n",
    "full_list = dwellt_list, null_dwellt_list\n",
    "import pandas as pd\n",
    "\n",
    "dt = list(range(36))\n",
    "cond = list(range(36))\n",
    "null = list(range(36))\n",
    "\n",
    "cond_list = ['BLN', 'GEN']\n",
    "null_list = ['emp', 'null']\n",
    "count=0\n",
    "\n",
    "for o in range(len(full_list)):\n",
    "    for i in range(len(full_list[o])):\n",
    "        for x in range(len(full_list[o][i])):\n",
    "            dt[count] = full_list[o][i][x]\n",
    "            cond[count] = cond_list[i]\n",
    "            null[count] = null_list[o]\n",
    "            count+=1\n",
    "dt_df = pd.DataFrame({\"dwell time\":(1/2.73)*np.array(dt) , \"condition\": cond, \"null\": null})"
   ]
  },
  {
   "cell_type": "code",
   "execution_count": 80,
   "metadata": {},
   "outputs": [
    {
     "data": {
      "text/html": [
       "<div>\n",
       "<style scoped>\n",
       "    .dataframe tbody tr th:only-of-type {\n",
       "        vertical-align: middle;\n",
       "    }\n",
       "\n",
       "    .dataframe tbody tr th {\n",
       "        vertical-align: top;\n",
       "    }\n",
       "\n",
       "    .dataframe thead th {\n",
       "        text-align: right;\n",
       "    }\n",
       "</style>\n",
       "<table border=\"1\" class=\"dataframe\">\n",
       "  <thead>\n",
       "    <tr style=\"text-align: right;\">\n",
       "      <th></th>\n",
       "      <th>dwell time</th>\n",
       "      <th>condition</th>\n",
       "      <th>null</th>\n",
       "    </tr>\n",
       "  </thead>\n",
       "  <tbody>\n",
       "    <tr>\n",
       "      <th>0</th>\n",
       "      <td>0.408026</td>\n",
       "      <td>BLN</td>\n",
       "      <td>emp</td>\n",
       "    </tr>\n",
       "    <tr>\n",
       "      <th>1</th>\n",
       "      <td>0.392606</td>\n",
       "      <td>BLN</td>\n",
       "      <td>emp</td>\n",
       "    </tr>\n",
       "    <tr>\n",
       "      <th>2</th>\n",
       "      <td>0.413817</td>\n",
       "      <td>BLN</td>\n",
       "      <td>emp</td>\n",
       "    </tr>\n",
       "    <tr>\n",
       "      <th>3</th>\n",
       "      <td>0.389431</td>\n",
       "      <td>BLN</td>\n",
       "      <td>emp</td>\n",
       "    </tr>\n",
       "    <tr>\n",
       "      <th>4</th>\n",
       "      <td>0.416042</td>\n",
       "      <td>BLN</td>\n",
       "      <td>emp</td>\n",
       "    </tr>\n",
       "    <tr>\n",
       "      <th>5</th>\n",
       "      <td>0.394382</td>\n",
       "      <td>BLN</td>\n",
       "      <td>emp</td>\n",
       "    </tr>\n",
       "    <tr>\n",
       "      <th>6</th>\n",
       "      <td>0.409274</td>\n",
       "      <td>BLN</td>\n",
       "      <td>emp</td>\n",
       "    </tr>\n",
       "    <tr>\n",
       "      <th>7</th>\n",
       "      <td>0.404045</td>\n",
       "      <td>BLN</td>\n",
       "      <td>emp</td>\n",
       "    </tr>\n",
       "    <tr>\n",
       "      <th>8</th>\n",
       "      <td>0.386885</td>\n",
       "      <td>BLN</td>\n",
       "      <td>emp</td>\n",
       "    </tr>\n",
       "    <tr>\n",
       "      <th>9</th>\n",
       "      <td>0.412483</td>\n",
       "      <td>GEN</td>\n",
       "      <td>emp</td>\n",
       "    </tr>\n",
       "    <tr>\n",
       "      <th>10</th>\n",
       "      <td>0.461185</td>\n",
       "      <td>GEN</td>\n",
       "      <td>emp</td>\n",
       "    </tr>\n",
       "    <tr>\n",
       "      <th>11</th>\n",
       "      <td>0.411567</td>\n",
       "      <td>GEN</td>\n",
       "      <td>emp</td>\n",
       "    </tr>\n",
       "    <tr>\n",
       "      <th>12</th>\n",
       "      <td>0.427239</td>\n",
       "      <td>GEN</td>\n",
       "      <td>emp</td>\n",
       "    </tr>\n",
       "    <tr>\n",
       "      <th>13</th>\n",
       "      <td>0.504537</td>\n",
       "      <td>GEN</td>\n",
       "      <td>emp</td>\n",
       "    </tr>\n",
       "    <tr>\n",
       "      <th>14</th>\n",
       "      <td>0.437891</td>\n",
       "      <td>GEN</td>\n",
       "      <td>emp</td>\n",
       "    </tr>\n",
       "    <tr>\n",
       "      <th>15</th>\n",
       "      <td>0.435580</td>\n",
       "      <td>GEN</td>\n",
       "      <td>emp</td>\n",
       "    </tr>\n",
       "    <tr>\n",
       "      <th>16</th>\n",
       "      <td>0.406627</td>\n",
       "      <td>GEN</td>\n",
       "      <td>emp</td>\n",
       "    </tr>\n",
       "    <tr>\n",
       "      <th>17</th>\n",
       "      <td>0.414237</td>\n",
       "      <td>GEN</td>\n",
       "      <td>emp</td>\n",
       "    </tr>\n",
       "    <tr>\n",
       "      <th>18</th>\n",
       "      <td>0.374613</td>\n",
       "      <td>BLN</td>\n",
       "      <td>null</td>\n",
       "    </tr>\n",
       "    <tr>\n",
       "      <th>19</th>\n",
       "      <td>0.381686</td>\n",
       "      <td>BLN</td>\n",
       "      <td>null</td>\n",
       "    </tr>\n",
       "    <tr>\n",
       "      <th>20</th>\n",
       "      <td>0.393627</td>\n",
       "      <td>BLN</td>\n",
       "      <td>null</td>\n",
       "    </tr>\n",
       "    <tr>\n",
       "      <th>21</th>\n",
       "      <td>0.382416</td>\n",
       "      <td>BLN</td>\n",
       "      <td>null</td>\n",
       "    </tr>\n",
       "    <tr>\n",
       "      <th>22</th>\n",
       "      <td>0.393368</td>\n",
       "      <td>BLN</td>\n",
       "      <td>null</td>\n",
       "    </tr>\n",
       "    <tr>\n",
       "      <th>23</th>\n",
       "      <td>0.387356</td>\n",
       "      <td>BLN</td>\n",
       "      <td>null</td>\n",
       "    </tr>\n",
       "    <tr>\n",
       "      <th>24</th>\n",
       "      <td>0.394230</td>\n",
       "      <td>BLN</td>\n",
       "      <td>null</td>\n",
       "    </tr>\n",
       "    <tr>\n",
       "      <th>25</th>\n",
       "      <td>0.391486</td>\n",
       "      <td>BLN</td>\n",
       "      <td>null</td>\n",
       "    </tr>\n",
       "    <tr>\n",
       "      <th>26</th>\n",
       "      <td>0.379272</td>\n",
       "      <td>BLN</td>\n",
       "      <td>null</td>\n",
       "    </tr>\n",
       "    <tr>\n",
       "      <th>27</th>\n",
       "      <td>0.378713</td>\n",
       "      <td>GEN</td>\n",
       "      <td>null</td>\n",
       "    </tr>\n",
       "    <tr>\n",
       "      <th>28</th>\n",
       "      <td>0.422363</td>\n",
       "      <td>GEN</td>\n",
       "      <td>null</td>\n",
       "    </tr>\n",
       "    <tr>\n",
       "      <th>29</th>\n",
       "      <td>0.397365</td>\n",
       "      <td>GEN</td>\n",
       "      <td>null</td>\n",
       "    </tr>\n",
       "    <tr>\n",
       "      <th>30</th>\n",
       "      <td>0.401622</td>\n",
       "      <td>GEN</td>\n",
       "      <td>null</td>\n",
       "    </tr>\n",
       "    <tr>\n",
       "      <th>31</th>\n",
       "      <td>0.435975</td>\n",
       "      <td>GEN</td>\n",
       "      <td>null</td>\n",
       "    </tr>\n",
       "    <tr>\n",
       "      <th>32</th>\n",
       "      <td>0.417851</td>\n",
       "      <td>GEN</td>\n",
       "      <td>null</td>\n",
       "    </tr>\n",
       "    <tr>\n",
       "      <th>33</th>\n",
       "      <td>0.403242</td>\n",
       "      <td>GEN</td>\n",
       "      <td>null</td>\n",
       "    </tr>\n",
       "    <tr>\n",
       "      <th>34</th>\n",
       "      <td>0.387356</td>\n",
       "      <td>GEN</td>\n",
       "      <td>null</td>\n",
       "    </tr>\n",
       "    <tr>\n",
       "      <th>35</th>\n",
       "      <td>0.389536</td>\n",
       "      <td>GEN</td>\n",
       "      <td>null</td>\n",
       "    </tr>\n",
       "  </tbody>\n",
       "</table>\n",
       "</div>"
      ],
      "text/plain": [
       "    dwell time condition  null\n",
       "0     0.408026       BLN   emp\n",
       "1     0.392606       BLN   emp\n",
       "2     0.413817       BLN   emp\n",
       "3     0.389431       BLN   emp\n",
       "4     0.416042       BLN   emp\n",
       "5     0.394382       BLN   emp\n",
       "6     0.409274       BLN   emp\n",
       "7     0.404045       BLN   emp\n",
       "8     0.386885       BLN   emp\n",
       "9     0.412483       GEN   emp\n",
       "10    0.461185       GEN   emp\n",
       "11    0.411567       GEN   emp\n",
       "12    0.427239       GEN   emp\n",
       "13    0.504537       GEN   emp\n",
       "14    0.437891       GEN   emp\n",
       "15    0.435580       GEN   emp\n",
       "16    0.406627       GEN   emp\n",
       "17    0.414237       GEN   emp\n",
       "18    0.374613       BLN  null\n",
       "19    0.381686       BLN  null\n",
       "20    0.393627       BLN  null\n",
       "21    0.382416       BLN  null\n",
       "22    0.393368       BLN  null\n",
       "23    0.387356       BLN  null\n",
       "24    0.394230       BLN  null\n",
       "25    0.391486       BLN  null\n",
       "26    0.379272       BLN  null\n",
       "27    0.378713       GEN  null\n",
       "28    0.422363       GEN  null\n",
       "29    0.397365       GEN  null\n",
       "30    0.401622       GEN  null\n",
       "31    0.435975       GEN  null\n",
       "32    0.417851       GEN  null\n",
       "33    0.403242       GEN  null\n",
       "34    0.387356       GEN  null\n",
       "35    0.389536       GEN  null"
      ]
     },
     "execution_count": 80,
     "metadata": {},
     "output_type": "execute_result"
    }
   ],
   "source": [
    "dt_df"
   ]
  },
  {
   "cell_type": "code",
   "execution_count": 82,
   "metadata": {},
   "outputs": [
    {
     "data": {
      "image/png": "[encoded data removed]",
      "text/plain": [
       "<Figure size 216x288 with 1 Axes>"
      ]
     },
     "metadata": {},
     "output_type": "display_data"
    }
   ],
   "source": [
    "import seaborn as sns\n",
    "from matplotlib.collections import PathCollection\n",
    "from matplotlib import cm\n",
    "sns.set(style=\"white\")\n",
    "colors2 = ['black','firebrick']\n",
    "colors1 = ['black', 'lightgrey']\n",
    "fig, ax = plt.subplots(figsize = (3,4))\n",
    "#ax = sns.pointplot(x=\"condition\", y=\"dwell time\", data = dt_df, hue = 'condition', palette = colors2, join=True, ci=0, scale=6, markers='_')\n",
    "for artist in ax.lines:\n",
    "    artist.set_zorder(10)\n",
    "for artist in ax.findobj(PathCollection):\n",
    "    artist.set_zorder(11)\n",
    "ax = sns.stripplot(x=\"condition\", y=\"dwell time\", data = dt_df, hue = 'null', palette = colors1, size = 15, jitter = True ,alpha = 1)\n",
    "\n",
    "ax.legend_.remove()\n",
    "plt.yticks(size = 18)\n",
    "points = ax.collections\n",
    "ax.spines['top'].set_visible(False)\n",
    "ax.spines['right'].set_visible(False)\n",
    "ax.spines['bottom'].set_visible(False)\n",
    "\n",
    "plt.show()"
   ]
  },
  {
   "cell_type": "code",
   "execution_count": 113,
   "metadata": {},
   "outputs": [],
   "source": [
    "bln_dt = dt_df[(dt_df['condition'] == 'BLN') & (dt_df['null'] == 'emp')]     ['dwell time']\n",
    "p20_dt = dt_df[(dt_df['condition'] == 'GEN') & (dt_df['null'] == 'emp')]['dwell time']\n",
    "bln_null = dt_df[(dt_df['condition'] == 'BLN') & (dt_df['null'] == 'null')]['dwell time']\n",
    "p20_null = dt_df[(dt_df['condition'] == 'GEN') & (dt_df['null'] == 'null')]['dwell time']\n",
    "\n",
    "#Calculate residual dwell times given nulls\n",
    "bln_change = np.array(bln_dt)  - np.array(bln_null) \n",
    "p20_change = np.array(p20_dt)  - np.array(p20_null) "
   ]
  },
  {
   "cell_type": "code",
   "execution_count": 114,
   "metadata": {},
   "outputs": [
    {
     "name": "stdout",
     "output_type": "stream",
     "text": [
      "BLN empirical mean = 0.40161205112439674  , std = 0.0036544700892891563\n",
      "PTZ20 empirical mean = 0.43459390066252784  , std = 0.01046209731764914\n",
      "BLN null mean = 0.3864504591631489  , std = 0.002405662423012923\n",
      "PTZ20 null mean = 0.4037804061773395  , std = 0.006154166929252833\n"
     ]
    }
   ],
   "source": [
    "m_list = bln_dt, p20_dt\n",
    "cond = ['BLN empirical', 'PTZ20 empirical']\n",
    "for i in range(len(m_list)):\n",
    "    adfn.mean_std(cond[i], m_list[i])\n",
    "    \n",
    "m_list = bln_null, p20_null\n",
    "cond = ['BLN null', 'PTZ20 null']\n",
    "for i in range(len(m_list)):\n",
    "    adfn.mean_std(cond[i], m_list[i])"
   ]
  },
  {
   "cell_type": "code",
   "execution_count": 102,
   "metadata": {},
   "outputs": [
    {
     "name": "stdout",
     "output_type": "stream",
     "text": [
      "At least one sample is non-Gaussian - performing non-parametric test\n",
      "Samples are significantly different\n",
      "w = 0.0   p = 0.00390625\n",
      "At least one sample is non-Gaussian - performing non-parametric test\n",
      "Samples are significantly different\n",
      "w = 0.0   p = 0.00390625\n"
     ]
    }
   ],
   "source": [
    "#Compare null vs empirical\n",
    "\n",
    "adfn.stats_2samp(bln_dt, bln_null, 0.05, 1, 'rel')\n",
    "\n",
    "adfn.stats_2samp(p20_dt, p20_null, 0.05, 1, 'rel')"
   ]
  },
  {
   "cell_type": "code",
   "execution_count": 115,
   "metadata": {},
   "outputs": [
    {
     "name": "stdout",
     "output_type": "stream",
     "text": [
      "At least one sample is non-Gaussian - performing non-parametric test\n",
      "Samples are significantly different\n",
      "w = 1.0   p = 0.0078125\n"
     ]
    }
   ],
   "source": [
    "#Compare BLN vs P20\n",
    "adfn.stats_2samp(p20_dt, bln_dt, 0.05, 1, 'rel')"
   ]
  },
  {
   "cell_type": "code",
   "execution_count": 107,
   "metadata": {},
   "outputs": [
    {
     "data": {
      "text/plain": [
       "[0.033412309279089336,\n",
       " 0.010919811414592362,\n",
       " 0.020190778657452002,\n",
       " 0.007015362650283408,\n",
       " 0.022673232463955417,\n",
       " 0.007026443414851258,\n",
       " 0.015043655283483559,\n",
       " 0.012559515663950749,\n",
       " 0.007613218823572965,\n",
       " 0.03376909707713144,\n",
       " 0.03882141115953036,\n",
       " 0.014202202911056283,\n",
       " 0.02561693517066338,\n",
       " 0.06856262934331697,\n",
       " 0.020039767215938198,\n",
       " 0.032337488866319486,\n",
       " 0.01927136484794978,\n",
       " 0.024700553774788803]"
      ]
     },
     "execution_count": 107,
     "metadata": {},
     "output_type": "execute_result"
    }
   ],
   "source": [
    "adfn.comb_list([bln_change, p20_change])"
   ]
  },
  {
   "cell_type": "code",
   "execution_count": 109,
   "metadata": {},
   "outputs": [
    {
     "data": {
      "text/html": [
       "<div>\n",
       "<style scoped>\n",
       "    .dataframe tbody tr th:only-of-type {\n",
       "        vertical-align: middle;\n",
       "    }\n",
       "\n",
       "    .dataframe tbody tr th {\n",
       "        vertical-align: top;\n",
       "    }\n",
       "\n",
       "    .dataframe thead th {\n",
       "        text-align: right;\n",
       "    }\n",
       "</style>\n",
       "<table border=\"1\" class=\"dataframe\">\n",
       "  <thead>\n",
       "    <tr style=\"text-align: right;\">\n",
       "      <th></th>\n",
       "      <th>Residual dwell time</th>\n",
       "      <th>condition</th>\n",
       "      <th>subject</th>\n",
       "    </tr>\n",
       "  </thead>\n",
       "  <tbody>\n",
       "    <tr>\n",
       "      <th>0</th>\n",
       "      <td>0.033412</td>\n",
       "      <td>BLN</td>\n",
       "      <td>0</td>\n",
       "    </tr>\n",
       "    <tr>\n",
       "      <th>1</th>\n",
       "      <td>0.010920</td>\n",
       "      <td>BLN</td>\n",
       "      <td>1</td>\n",
       "    </tr>\n",
       "    <tr>\n",
       "      <th>2</th>\n",
       "      <td>0.020191</td>\n",
       "      <td>BLN</td>\n",
       "      <td>2</td>\n",
       "    </tr>\n",
       "    <tr>\n",
       "      <th>3</th>\n",
       "      <td>0.007015</td>\n",
       "      <td>BLN</td>\n",
       "      <td>3</td>\n",
       "    </tr>\n",
       "    <tr>\n",
       "      <th>4</th>\n",
       "      <td>0.022673</td>\n",
       "      <td>BLN</td>\n",
       "      <td>4</td>\n",
       "    </tr>\n",
       "    <tr>\n",
       "      <th>5</th>\n",
       "      <td>0.007026</td>\n",
       "      <td>BLN</td>\n",
       "      <td>5</td>\n",
       "    </tr>\n",
       "    <tr>\n",
       "      <th>6</th>\n",
       "      <td>0.015044</td>\n",
       "      <td>BLN</td>\n",
       "      <td>6</td>\n",
       "    </tr>\n",
       "    <tr>\n",
       "      <th>7</th>\n",
       "      <td>0.012560</td>\n",
       "      <td>BLN</td>\n",
       "      <td>7</td>\n",
       "    </tr>\n",
       "    <tr>\n",
       "      <th>8</th>\n",
       "      <td>0.007613</td>\n",
       "      <td>BLN</td>\n",
       "      <td>8</td>\n",
       "    </tr>\n",
       "    <tr>\n",
       "      <th>9</th>\n",
       "      <td>0.033769</td>\n",
       "      <td>PTZ20</td>\n",
       "      <td>0</td>\n",
       "    </tr>\n",
       "    <tr>\n",
       "      <th>10</th>\n",
       "      <td>0.038821</td>\n",
       "      <td>PTZ20</td>\n",
       "      <td>1</td>\n",
       "    </tr>\n",
       "    <tr>\n",
       "      <th>11</th>\n",
       "      <td>0.014202</td>\n",
       "      <td>PTZ20</td>\n",
       "      <td>2</td>\n",
       "    </tr>\n",
       "    <tr>\n",
       "      <th>12</th>\n",
       "      <td>0.025617</td>\n",
       "      <td>PTZ20</td>\n",
       "      <td>3</td>\n",
       "    </tr>\n",
       "    <tr>\n",
       "      <th>13</th>\n",
       "      <td>0.068563</td>\n",
       "      <td>PTZ20</td>\n",
       "      <td>4</td>\n",
       "    </tr>\n",
       "    <tr>\n",
       "      <th>14</th>\n",
       "      <td>0.020040</td>\n",
       "      <td>PTZ20</td>\n",
       "      <td>5</td>\n",
       "    </tr>\n",
       "    <tr>\n",
       "      <th>15</th>\n",
       "      <td>0.032337</td>\n",
       "      <td>PTZ20</td>\n",
       "      <td>6</td>\n",
       "    </tr>\n",
       "    <tr>\n",
       "      <th>16</th>\n",
       "      <td>0.019271</td>\n",
       "      <td>PTZ20</td>\n",
       "      <td>7</td>\n",
       "    </tr>\n",
       "    <tr>\n",
       "      <th>17</th>\n",
       "      <td>0.024701</td>\n",
       "      <td>PTZ20</td>\n",
       "      <td>8</td>\n",
       "    </tr>\n",
       "  </tbody>\n",
       "</table>\n",
       "</div>"
      ],
      "text/plain": [
       "    Residual dwell time condition  subject\n",
       "0              0.033412       BLN        0\n",
       "1              0.010920       BLN        1\n",
       "2              0.020191       BLN        2\n",
       "3              0.007015       BLN        3\n",
       "4              0.022673       BLN        4\n",
       "5              0.007026       BLN        5\n",
       "6              0.015044       BLN        6\n",
       "7              0.012560       BLN        7\n",
       "8              0.007613       BLN        8\n",
       "9              0.033769     PTZ20        0\n",
       "10             0.038821     PTZ20        1\n",
       "11             0.014202     PTZ20        2\n",
       "12             0.025617     PTZ20        3\n",
       "13             0.068563     PTZ20        4\n",
       "14             0.020040     PTZ20        5\n",
       "15             0.032337     PTZ20        6\n",
       "16             0.019271     PTZ20        7\n",
       "17             0.024701     PTZ20        8"
      ]
     },
     "execution_count": 109,
     "metadata": {},
     "output_type": "execute_result"
    }
   ],
   "source": [
    "#Plot residual dwell times\n",
    "from matplotlib import cm\n",
    "\n",
    "data_list = bln_change, p20_change\n",
    "plot_list = adfn.comb_list(data_list)\n",
    "cond = ['BLN', 'PTZ20']\n",
    "num = np.arange(0, len(data_list[0]))\n",
    "cond_data = adfn.cond_list(data_list, cond, 'dataset')\n",
    "num_data = adfn.cond_list(data_list, num, 'datapoint')\n",
    "mean_colours = ['k', 'firebrick']\n",
    "colours  = cm.Spectral_r(np.linspace(0,1,len(data_list[0])))\n",
    "m_df = pd.DataFrame( {'Residual dwell time':   plot_list, 'condition': cond_data, 'subject': num_data } )\n",
    "m_df\n"
   ]
  },
  {
   "cell_type": "code",
   "execution_count": 110,
   "metadata": {},
   "outputs": [
    {
     "data": {
      "image/png": "[encoded data removed]",
      "text/plain": [
       "<Figure size 216x360 with 1 Axes>"
      ]
     },
     "metadata": {},
     "output_type": "display_data"
    }
   ],
   "source": [
    "adfn.bar_scatter_plot(m_df, 'Residual dwell time', (3, 5), 7, 20, mean_colours, colours)"
   ]
  },
  {
   "cell_type": "code",
   "execution_count": 111,
   "metadata": {},
   "outputs": [
    {
     "name": "stdout",
     "output_type": "stream",
     "text": [
      "BLN mean = 0.015161591961247896  , std = 0.002955933739696265\n",
      "PTZ20 mean = 0.0308134944851883  , std = 0.0053874639648055994\n"
     ]
    }
   ],
   "source": [
    "bln = m_df[m_df['condition'] == 'BLN']['Residual dwell time']\n",
    "p20 = m_df[m_df['condition'] == 'PTZ20']['Residual dwell time']\n",
    "m_list = bln, p20\n",
    "for i in range(len(m_list)):\n",
    "    adfn.mean_std(cond[i], m_list[i])"
   ]
  },
  {
   "cell_type": "code",
   "execution_count": 112,
   "metadata": {},
   "outputs": [
    {
     "name": "stdout",
     "output_type": "stream",
     "text": [
      "At least one sample is non-Gaussian - performing non-parametric test\n",
      "Samples are significantly different\n",
      "w = 2.0   p = 0.01171875\n"
     ]
    },
    {
     "name": "stderr",
     "output_type": "stream",
     "text": [
      "/Users/dominicburrows/anaconda3/lib/python3.7/site-packages/scipy/stats/stats.py:1604: UserWarning: kurtosistest only valid for n>=20 ... continuing anyway, n=9\n",
      "  \"anyway, n=%i\" % int(n))\n"
     ]
    }
   ],
   "source": [
    "adfn.stats_2samp(bln, p20, 0.05, 1, 'rel')"
   ]
  }
 ],
 "metadata": {
  "colab": {
   "collapsed_sections": [],
   "name": "net_state.ipynb",
   "provenance": []
  },
  "kernelspec": {
   "display_name": "Python 3",
   "language": "python",
   "name": "python3"
  },
  "language_info": {
   "codemirror_mode": {
    "name": "ipython",
    "version": 3
   },
   "file_extension": ".py",
   "mimetype": "text/x-python",
   "name": "python",
   "nbconvert_exporter": "python",
   "pygments_lexer": "ipython3",
   "version": "3.7.6"
  }
 },
 "nbformat": 4,
 "nbformat_minor": 4
}
