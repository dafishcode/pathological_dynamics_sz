{
 "cells": [
  {
   "cell_type": "code",
   "execution_count": 17,
   "metadata": {
    "colab": {
     "base_uri": "https://localhost:8080/"
    },
    "id": "dfEPT66RR1Th",
    "outputId": "ad77aeff-4089-41a3-ae1f-14a13b81f630"
   },
   "outputs": [
    {
     "name": "stdout",
     "output_type": "stream",
     "text": [
      "The autoreload extension is already loaded. To reload it, use:\n",
      "  %reload_ext autoreload\n"
     ]
    },
    {
     "data": {
      "text/plain": [
       "'3.7.6 (default, Jan  8 2020, 13:42:34) \\n[Clang 4.0.1 (tags/RELEASE_401/final)]'"
      ]
     },
     "execution_count": 17,
     "metadata": {},
     "output_type": "execute_result"
    }
   ],
   "source": [
    "#Import packages\n",
    "#---------------------------------------\n",
    "import sys\n",
    "import os\n",
    "import pandas as pd\n",
    "from matplotlib import pyplot as plt\n",
    "import numpy as np\n",
    "import matplotlib\n",
    "import warnings\n",
    "warnings.filterwarnings(\"ignore\", category=RuntimeWarning) \n",
    "\n",
    "#Import your modules\n",
    "#---------------------------------------\n",
    "import admin_functions as adfn\n",
    "import metastability as mfn\n",
    "import LCE as lfn\n",
    "\n",
    "# Define paths\n",
    "#----------------------------------------------------------------------\n",
    "Fcode = '/Users/dominicburrows/Dropbox/PhD/Analysis/my_scripts/GitHub/'\n",
    "Fdata = '/Users/dominicburrows/Dropbox/PhD/analysis/Project/'\n",
    "Fdoc = '/Users/dominicburrows/Documents/'\n",
    "F10t = '/Volumes/Dominic 10tb/Data2process/Project/' \n",
    "F10t2 = '/Volumes/Dominic 10tb2/Data2process/Project/'\n",
    "Ftm = '/Volumes/Dominic Time Machine/'\n",
    "Ffig = '/Users/dominicburrows/Dropbox/PhD/figures/'\n",
    "\n",
    "%load_ext autoreload\n",
    "sys.version"
   ]
  },
  {
   "cell_type": "code",
   "execution_count": 64,
   "metadata": {},
   "outputs": [
    {
     "data": {
      "text/plain": [
       "(['PTZ-WILDTYPE-02_2photon_sess-01-6dpf_BLN_run-01_metastates.npy',\n",
       "  'PTZ-WILDTYPE-04_2photon_sess-01-6dpf_BLN_run-01_metastates.npy',\n",
       "  'PTZ-WILDTYPE-05_2photon_sess-01-6dpf_BLN_run-01_metastates.npy',\n",
       "  'PTZ-WILDTYPE-07_2photon_sess-01-6dpf_BLN_run-01_metastates.npy',\n",
       "  'PTZ-WILDTYPE-08_2photon_sess-01-6dpf_BLN_run-01_metastates.npy',\n",
       "  'PTZ-WILDTYPE-09_2photon_sess-01-6dpf_BLN_run-01_metastates.npy',\n",
       "  'PTZ-WILDTYPE-10_2photon_sess-01-6dpf_BLN_run-01_metastates.npy',\n",
       "  'PTZ-WILDTYPE-11_2photon_sess-01-6dpf_BLN_run-01_metastates.npy',\n",
       "  'PTZ-WILDTYPE-12_2photon_sess-01-6dpf_BLN_run-09_metastates.npy'],\n",
       " ['PTZ-WILDTYPE-02_2photon_sess-01-6dpf_PTZ20_run-01_metastates.npy',\n",
       "  'PTZ-WILDTYPE-04_2photon_sess-01-6dpf_PTZ20_run-01_metastates.npy',\n",
       "  'PTZ-WILDTYPE-05_2photon_sess-01-6dpf_PTZ20_run-01_metastates.npy',\n",
       "  'PTZ-WILDTYPE-07_2photon_sess-01-6dpf_PTZ20_run-01_metastates.npy',\n",
       "  'PTZ-WILDTYPE-08_2photon_sess-01-6dpf_PTZ20_run-01_metastates.npy',\n",
       "  'PTZ-WILDTYPE-09_2photon_sess-01-6dpf_PTZ20_run-01_metastates.npy',\n",
       "  'PTZ-WILDTYPE-10_2photon_sess-01-6dpf_PTZ20_run-01_metastates.npy',\n",
       "  'PTZ-WILDTYPE-11_2photon_sess-01-6dpf_PTZ20_run-01_metastates.npy',\n",
       "  'PTZ-WILDTYPE-12_2photon_sess-01-6dpf_PTZ20_run-01_metastates.npy'])"
      ]
     },
     "execution_count": 64,
     "metadata": {},
     "output_type": "execute_result"
    }
   ],
   "source": [
    "bln_list = adfn.return_files(Fdata, 'PTZ-WILDTYPE', '*BLN*metastates.npy')\n",
    "p20_list = adfn.return_files(Fdata, 'PTZ-WILDTYPE', '*PTZ20*metastates.npy')\n",
    "data_list = bln_list, p20_list\n",
    "data_list"
   ]
  },
  {
   "cell_type": "markdown",
   "metadata": {},
   "source": [
    "# Calculate metastablility statistics"
   ]
  },
  {
   "cell_type": "code",
   "execution_count": null,
   "metadata": {},
   "outputs": [],
   "source": [
    "from sklearn.cluster import AffinityPropagation\n",
    "import copy\n",
    "\n",
    "data_list = bln_blist, foc_blist, gen_blist\n",
    "for e in range(len(data_list)):\n",
    "  for i in range(len(data_list[e])):\n",
    "    data = np.load(data_list[e][i])[:,1:4913].T\n",
    "    name = data_list[e][i]\n",
    "\n",
    "    #Empirical data\n",
    "    all_clust, sub_clust = mfn.affprop(data) #cluster with affinity prop on empirical data\n",
    "    emp_sim = mfn.Sim_loop(data, all_clust, sub_clust) #calculate similarity between clustered states\n",
    "\n",
    "    #Generate null data\n",
    "    rpks = np.zeros((data.shape))\n",
    "    for t in range(data.shape[0]):\n",
    "        temp_pks = data[t]\n",
    "        np.random.shuffle(temp_pks) \n",
    "        rpks[t] = temp_pks\n",
    "\n",
    "    null_all_clust, null_sub_clust = mfn.affprop(rpks) #cluster with affinity prop on null data\n",
    "    null_sim = mfn.Sim_loop(rpks, null_all_clust, null_sub_clust) #calculate similarity between clustered states\n",
    "    n_states = len(emp_sim > np.max(null_sim))\n",
    "    if len(emp_sim) > n_states:\n",
    "      print('null model removed a cluster')\n",
    "\n",
    "    fin_clust = sub_clust[emp_sim > max(null_sim)] #Find the clusters that occur above chance\n",
    "    p_state, m_dwell, v_dwell = mfn.state_stats(fin_clust, all_clust) #Calculate state transition statistics\n",
    "    null_m_dwell = mfn.null_states(fin_clust, data) #Calculate the mean dwell time with random dynamics\n",
    "    np.save(d_path +  name[:name.find('run')+6] + '_' +'metastates.npy', [n_states, p_state, m_dwell, null_m_dwell, v_dwell]) \n",
    "\n",
    "  print('Done' + str(e))"
   ]
  },
  {
   "cell_type": "code",
   "execution_count": 65,
   "metadata": {},
   "outputs": [
    {
     "data": {
      "text/plain": [
       "(['PTZ-WILDTYPE-02_2photon_sess-01-6dpf_BLN_run-01_metastates.npy',\n",
       "  'PTZ-WILDTYPE-04_2photon_sess-01-6dpf_BLN_run-01_metastates.npy',\n",
       "  'PTZ-WILDTYPE-05_2photon_sess-01-6dpf_BLN_run-01_metastates.npy',\n",
       "  'PTZ-WILDTYPE-07_2photon_sess-01-6dpf_BLN_run-01_metastates.npy',\n",
       "  'PTZ-WILDTYPE-08_2photon_sess-01-6dpf_BLN_run-01_metastates.npy',\n",
       "  'PTZ-WILDTYPE-09_2photon_sess-01-6dpf_BLN_run-01_metastates.npy',\n",
       "  'PTZ-WILDTYPE-10_2photon_sess-01-6dpf_BLN_run-01_metastates.npy',\n",
       "  'PTZ-WILDTYPE-11_2photon_sess-01-6dpf_BLN_run-01_metastates.npy',\n",
       "  'PTZ-WILDTYPE-12_2photon_sess-01-6dpf_BLN_run-09_metastates.npy'],\n",
       " ['PTZ-WILDTYPE-02_2photon_sess-01-6dpf_PTZ20_run-01_metastates.npy',\n",
       "  'PTZ-WILDTYPE-04_2photon_sess-01-6dpf_PTZ20_run-01_metastates.npy',\n",
       "  'PTZ-WILDTYPE-05_2photon_sess-01-6dpf_PTZ20_run-01_metastates.npy',\n",
       "  'PTZ-WILDTYPE-07_2photon_sess-01-6dpf_PTZ20_run-01_metastates.npy',\n",
       "  'PTZ-WILDTYPE-08_2photon_sess-01-6dpf_PTZ20_run-01_metastates.npy',\n",
       "  'PTZ-WILDTYPE-09_2photon_sess-01-6dpf_PTZ20_run-01_metastates.npy',\n",
       "  'PTZ-WILDTYPE-10_2photon_sess-01-6dpf_PTZ20_run-01_metastates.npy',\n",
       "  'PTZ-WILDTYPE-11_2photon_sess-01-6dpf_PTZ20_run-01_metastates.npy',\n",
       "  'PTZ-WILDTYPE-12_2photon_sess-01-6dpf_PTZ20_run-01_metastates.npy'])"
      ]
     },
     "execution_count": 65,
     "metadata": {},
     "output_type": "execute_result"
    }
   ],
   "source": [
    "# Dataset 4 returns 1 cluster - remove\n",
    "data_list"
   ]
  },
  {
   "cell_type": "code",
   "execution_count": 66,
   "metadata": {},
   "outputs": [
    {
     "data": {
      "text/html": [
       "<div>\n",
       "<style scoped>\n",
       "    .dataframe tbody tr th:only-of-type {\n",
       "        vertical-align: middle;\n",
       "    }\n",
       "\n",
       "    .dataframe tbody tr th {\n",
       "        vertical-align: top;\n",
       "    }\n",
       "\n",
       "    .dataframe thead th {\n",
       "        text-align: right;\n",
       "    }\n",
       "</style>\n",
       "<table border=\"1\" class=\"dataframe\">\n",
       "  <thead>\n",
       "    <tr style=\"text-align: right;\">\n",
       "      <th></th>\n",
       "      <th>States</th>\n",
       "      <th>condition</th>\n",
       "      <th>subject</th>\n",
       "    </tr>\n",
       "  </thead>\n",
       "  <tbody>\n",
       "    <tr>\n",
       "      <th>0</th>\n",
       "      <td>44</td>\n",
       "      <td>BLN</td>\n",
       "      <td>0</td>\n",
       "    </tr>\n",
       "    <tr>\n",
       "      <th>1</th>\n",
       "      <td>25</td>\n",
       "      <td>BLN</td>\n",
       "      <td>1</td>\n",
       "    </tr>\n",
       "    <tr>\n",
       "      <th>2</th>\n",
       "      <td>14</td>\n",
       "      <td>BLN</td>\n",
       "      <td>2</td>\n",
       "    </tr>\n",
       "    <tr>\n",
       "      <th>3</th>\n",
       "      <td>20</td>\n",
       "      <td>BLN</td>\n",
       "      <td>3</td>\n",
       "    </tr>\n",
       "    <tr>\n",
       "      <th>4</th>\n",
       "      <td>14</td>\n",
       "      <td>BLN</td>\n",
       "      <td>4</td>\n",
       "    </tr>\n",
       "    <tr>\n",
       "      <th>5</th>\n",
       "      <td>17</td>\n",
       "      <td>BLN</td>\n",
       "      <td>5</td>\n",
       "    </tr>\n",
       "    <tr>\n",
       "      <th>6</th>\n",
       "      <td>13</td>\n",
       "      <td>BLN</td>\n",
       "      <td>6</td>\n",
       "    </tr>\n",
       "    <tr>\n",
       "      <th>7</th>\n",
       "      <td>15</td>\n",
       "      <td>BLN</td>\n",
       "      <td>7</td>\n",
       "    </tr>\n",
       "    <tr>\n",
       "      <th>8</th>\n",
       "      <td>26</td>\n",
       "      <td>BLN</td>\n",
       "      <td>8</td>\n",
       "    </tr>\n",
       "    <tr>\n",
       "      <th>9</th>\n",
       "      <td>28</td>\n",
       "      <td>PTZ20</td>\n",
       "      <td>0</td>\n",
       "    </tr>\n",
       "    <tr>\n",
       "      <th>10</th>\n",
       "      <td>7</td>\n",
       "      <td>PTZ20</td>\n",
       "      <td>1</td>\n",
       "    </tr>\n",
       "    <tr>\n",
       "      <th>11</th>\n",
       "      <td>12</td>\n",
       "      <td>PTZ20</td>\n",
       "      <td>2</td>\n",
       "    </tr>\n",
       "    <tr>\n",
       "      <th>12</th>\n",
       "      <td>10</td>\n",
       "      <td>PTZ20</td>\n",
       "      <td>3</td>\n",
       "    </tr>\n",
       "    <tr>\n",
       "      <th>13</th>\n",
       "      <td>5</td>\n",
       "      <td>PTZ20</td>\n",
       "      <td>4</td>\n",
       "    </tr>\n",
       "    <tr>\n",
       "      <th>14</th>\n",
       "      <td>7</td>\n",
       "      <td>PTZ20</td>\n",
       "      <td>5</td>\n",
       "    </tr>\n",
       "    <tr>\n",
       "      <th>15</th>\n",
       "      <td>9</td>\n",
       "      <td>PTZ20</td>\n",
       "      <td>6</td>\n",
       "    </tr>\n",
       "    <tr>\n",
       "      <th>16</th>\n",
       "      <td>16</td>\n",
       "      <td>PTZ20</td>\n",
       "      <td>7</td>\n",
       "    </tr>\n",
       "    <tr>\n",
       "      <th>17</th>\n",
       "      <td>13</td>\n",
       "      <td>PTZ20</td>\n",
       "      <td>8</td>\n",
       "    </tr>\n",
       "  </tbody>\n",
       "</table>\n",
       "</div>"
      ],
      "text/plain": [
       "    States condition  subject\n",
       "0       44       BLN        0\n",
       "1       25       BLN        1\n",
       "2       14       BLN        2\n",
       "3       20       BLN        3\n",
       "4       14       BLN        4\n",
       "5       17       BLN        5\n",
       "6       13       BLN        6\n",
       "7       15       BLN        7\n",
       "8       26       BLN        8\n",
       "9       28     PTZ20        0\n",
       "10       7     PTZ20        1\n",
       "11      12     PTZ20        2\n",
       "12      10     PTZ20        3\n",
       "13       5     PTZ20        4\n",
       "14       7     PTZ20        5\n",
       "15       9     PTZ20        6\n",
       "16      16     PTZ20        7\n",
       "17      13     PTZ20        8"
      ]
     },
     "execution_count": 66,
     "metadata": {},
     "output_type": "execute_result"
    }
   ],
   "source": [
    "#Load data\n",
    "from matplotlib import cm\n",
    "\n",
    "\n",
    "plot_list = list(range(len(data_list[0])*2))\n",
    "count=0\n",
    "for i,_ in enumerate(data_list):\n",
    "    for e,_ in enumerate(data_list[i]):\n",
    "\n",
    "        plot_list[count] = np.load(data_list[i][e], allow_pickle=True)[0]\n",
    "        count+=1\n",
    "\n",
    "cond = ['BLN', 'PTZ20']\n",
    "num = np.arange(0, len(data_list[0]))\n",
    "cond_data = adfn.cond_list(data_list, cond, 'dataset')\n",
    "num_data = adfn.cond_list(data_list, num, 'datapoint')\n",
    "mean_colours = ['k', 'firebrick']\n",
    "colours  = cm.Spectral_r(np.linspace(0,1,len(data_list[0])))\n",
    "m_df = pd.DataFrame( {'States':   plot_list, 'condition': cond_data, 'subject': num_data } )\n",
    "m_df\n"
   ]
  },
  {
   "cell_type": "code",
   "execution_count": 67,
   "metadata": {},
   "outputs": [
    {
     "data": {
      "image/png": "[encoded data removed]",
      "text/plain": [
       "<Figure size 216x360 with 1 Axes>"
      ]
     },
     "metadata": {},
     "output_type": "display_data"
    }
   ],
   "source": [
    "adfn.bar_scatter_plot(m_df, 'States', (3, 5), 7, 20, mean_colours, colours)"
   ]
  },
  {
   "cell_type": "code",
   "execution_count": 68,
   "metadata": {
    "id": "dV9-rTF4s8uJ"
   },
   "outputs": [
    {
     "name": "stdout",
     "output_type": "stream",
     "text": [
      "BLN mean = 20.88888888888889  , std = 3.3017017684674723\n",
      "PTZ20 mean = 11.88888888888889  , std = 2.312072449631646\n"
     ]
    }
   ],
   "source": [
    "bln = m_df[m_df['condition'] == 'BLN']['States']\n",
    "p20 = m_df[m_df['condition'] == 'PTZ20']['States']\n",
    "m_list = bln, p20\n",
    "for i in range(len(m_list)):\n",
    "    adfn.mean_std(cond[i], m_list[i])"
   ]
  },
  {
   "cell_type": "code",
   "execution_count": 69,
   "metadata": {
    "colab": {
     "base_uri": "https://localhost:8080/"
    },
    "id": "jmUG9lSfaeUn",
    "outputId": "560654ff-7216-479e-a0a3-2f3c3a39148d"
   },
   "outputs": [
    {
     "name": "stdout",
     "output_type": "stream",
     "text": [
      "At least one sample is non-Gaussian - performing non-parametric test\n",
      "Samples are significantly different\n",
      "w = 1.0   p = 0.0078125\n"
     ]
    },
    {
     "name": "stderr",
     "output_type": "stream",
     "text": [
      "/Users/dominicburrows/anaconda3/lib/python3.7/site-packages/scipy/stats/stats.py:1604: UserWarning: kurtosistest only valid for n>=20 ... continuing anyway, n=9\n",
      "  \"anyway, n=%i\" % int(n))\n"
     ]
    }
   ],
   "source": [
    "adfn.stats_2samp(bln, p20, 0.05, 1, 'rel')"
   ]
  },
  {
   "cell_type": "code",
   "execution_count": 77,
   "metadata": {},
   "outputs": [],
   "source": [
    "#Load dwell times\n",
    "data_type = 2 #dwell time per state\n",
    "dwellt_list, null_dwellt_list = list(range(len(data_list))),list(range(len(data_list)))\n",
    "for i in range(len(data_list)):\n",
    "    dwellt, null_dwellt = np.zeros(len(data_list[i])),np.zeros(len(data_list[i]))\n",
    "    for e in range(len(dwellt)):\n",
    "        dwellt[e] = np.mean(np.load(data_list[i][e], allow_pickle=True)[data_type])\n",
    "        null_dwellt[e] = np.load(data_list[i][e], allow_pickle=True)[data_type + 1]\n",
    "        dwellt_list[i] = dwellt\n",
    "        null_dwellt_list[i] = null_dwellt"
   ]
  },
  {
   "cell_type": "code",
   "execution_count": 79,
   "metadata": {},
   "outputs": [],
   "source": [
    "#Compare dwell times against null models\n",
    "\n",
    "full_list = dwellt_list, null_dwellt_list\n",
    "import pandas as pd\n",
    "\n",
    "dt = list(range(36))\n",
    "cond = list(range(36))\n",
    "null = list(range(36))\n",
    "\n",
    "cond_list = ['BLN', 'GEN']\n",
    "null_list = ['emp', 'null']\n",
    "count=0\n",
    "\n",
    "for o in range(len(full_list)):\n",
    "    for i in range(len(full_list[o])):\n",
    "        for x in range(len(full_list[o][i])):\n",
    "            dt[count] = full_list[o][i][x]\n",
    "            cond[count] = cond_list[i]\n",
    "            null[count] = null_list[o]\n",
    "            count+=1\n",
    "dt_df = pd.DataFrame({\"dwell time\":(1/2.73)*np.array(dt) , \"condition\": cond, \"null\": null})"
   ]
  },
  {
   "cell_type": "code",
   "execution_count": 80,
   "metadata": {},
   "outputs": [
    {
     "data": {
      "text/html": [
       "<div>\n",
       "<style scoped>\n",
       "    .dataframe tbody tr th:only-of-type {\n",
       "        vertical-align: middle;\n",
       "    }\n",
       "\n",
       "    .dataframe tbody tr th {\n",
       "        vertical-align: top;\n",
       "    }\n",
       "\n",
       "    .dataframe thead th {\n",
       "        text-align: right;\n",
       "    }\n",
       "</style>\n",
       "<table border=\"1\" class=\"dataframe\">\n",
       "  <thead>\n",
       "    <tr style=\"text-align: right;\">\n",
       "      <th></th>\n",
       "      <th>dwell time</th>\n",
       "      <th>condition</th>\n",
       "      <th>null</th>\n",
       "    </tr>\n",
       "  </thead>\n",
       "  <tbody>\n",
       "    <tr>\n",
       "      <th>0</th>\n",
       "      <td>0.408026</td>\n",
       "      <td>BLN</td>\n",
       "      <td>emp</td>\n",
       "    </tr>\n",
       "    <tr>\n",
       "      <th>1</th>\n",
       "      <td>0.392606</td>\n",
       "      <td>BLN</td>\n",
       "      <td>emp</td>\n",
       "    </tr>\n",
       "    <tr>\n",
       "      <th>2</th>\n",
       "      <td>0.413817</td>\n",
       "      <td>BLN</td>\n",
       "      <td>emp</td>\n",
       "    </tr>\n",
       "    <tr>\n",
       "      <th>3</th>\n",
       "      <td>0.389431</td>\n",
       "      <td>BLN</td>\n",
       "      <td>emp</td>\n",
       "    </tr>\n",
       "    <tr>\n",
       "      <th>4</th>\n",
       "      <td>0.416042</td>\n",
       "      <td>BLN</td>\n",
       "      <td>emp</td>\n",
       "    </tr>\n",
       "    <tr>\n",
       "      <th>5</th>\n",
       "      <td>0.394382</td>\n",
       "      <td>BLN</td>\n",
       "      <td>emp</td>\n",
       "    </tr>\n",
       "    <tr>\n",
       "      <th>6</th>\n",
       "      <td>0.409274</td>\n",
       "      <td>BLN</td>\n",
       "      <td>emp</td>\n",
       "    </tr>\n",
       "    <tr>\n",
       "      <th>7</th>\n",
       "      <td>0.404045</td>\n",
       "      <td>BLN</td>\n",
       "      <td>emp</td>\n",
       "    </tr>\n",
       "    <tr>\n",
       "      <th>8</th>\n",
       "      <td>0.386885</td>\n",
       "      <td>BLN</td>\n",
       "      <td>emp</td>\n",
       "    </tr>\n",
       "    <tr>\n",
       "      <th>9</th>\n",
       "      <td>0.412483</td>\n",
       "      <td>GEN</td>\n",
       "      <td>emp</td>\n",
       "    </tr>\n",
       "    <tr>\n",
       "      <th>10</th>\n",
       "      <td>0.461185</td>\n",
       "      <td>GEN</td>\n",
       "      <td>emp</td>\n",
       "    </tr>\n",
       "    <tr>\n",
       "      <th>11</th>\n",
       "      <td>0.411567</td>\n",
       "      <td>GEN</td>\n",
       "      <td>emp</td>\n",
       "    </tr>\n",
       "    <tr>\n",
       "      <th>12</th>\n",
       "      <td>0.427239</td>\n",
       "      <td>GEN</td>\n",
       "      <td>emp</td>\n",
       "    </tr>\n",
       "    <tr>\n",
       "      <th>13</th>\n",
       "      <td>0.504537</td>\n",
       "      <td>GEN</td>\n",
       "      <td>emp</td>\n",
       "    </tr>\n",
       "    <tr>\n",
       "      <th>14</th>\n",
       "      <td>0.437891</td>\n",
       "      <td>GEN</td>\n",
       "      <td>emp</td>\n",
       "    </tr>\n",
       "    <tr>\n",
       "      <th>15</th>\n",
       "      <td>0.435580</td>\n",
       "      <td>GEN</td>\n",
       "      <td>emp</td>\n",
       "    </tr>\n",
       "    <tr>\n",
       "      <th>16</th>\n",
       "      <td>0.406627</td>\n",
       "      <td>GEN</td>\n",
       "      <td>emp</td>\n",
       "    </tr>\n",
       "    <tr>\n",
       "      <th>17</th>\n",
       "      <td>0.414237</td>\n",
       "      <td>GEN</td>\n",
       "      <td>emp</td>\n",
       "    </tr>\n",
       "    <tr>\n",
       "      <th>18</th>\n",
       "      <td>0.374613</td>\n",
       "      <td>BLN</td>\n",
       "      <td>null</td>\n",
       "    </tr>\n",
       "    <tr>\n",
       "      <th>19</th>\n",
       "      <td>0.381686</td>\n",
       "      <td>BLN</td>\n",
       "      <td>null</td>\n",
       "    </tr>\n",
       "    <tr>\n",
       "      <th>20</th>\n",
       "      <td>0.393627</td>\n",
       "      <td>BLN</td>\n",
       "      <td>null</td>\n",
       "    </tr>\n",
       "    <tr>\n",
       "      <th>21</th>\n",
       "      <td>0.382416</td>\n",
       "      <td>BLN</td>\n",
       "      <td>null</td>\n",
       "    </tr>\n",
       "    <tr>\n",
       "      <th>22</th>\n",
       "      <td>0.393368</td>\n",
       "      <td>BLN</td>\n",
       "      <td>null</td>\n",
       "    </tr>\n",
       "    <tr>\n",
       "      <th>23</th>\n",
       "      <td>0.387356</td>\n",
       "      <td>BLN</td>\n",
       "      <td>null</td>\n",
       "    </tr>\n",
       "    <tr>\n",
       "      <th>24</th>\n",
       "      <td>0.394230</td>\n",
       "      <td>BLN</td>\n",
       "      <td>null</td>\n",
       "    </tr>\n",
       "    <tr>\n",
       "      <th>25</th>\n",
       "      <td>0.391486</td>\n",
       "      <td>BLN</td>\n",
       "      <td>null</td>\n",
       "    </tr>\n",
       "    <tr>\n",
       "      <th>26</th>\n",
       "      <td>0.379272</td>\n",
       "      <td>BLN</td>\n",
       "      <td>null</td>\n",
       "    </tr>\n",
       "    <tr>\n",
       "      <th>27</th>\n",
       "      <td>0.378713</td>\n",
       "      <td>GEN</td>\n",
       "      <td>null</td>\n",
       "    </tr>\n",
       "    <tr>\n",
       "      <th>28</th>\n",
       "      <td>0.422363</td>\n",
       "      <td>GEN</td>\n",
       "      <td>null</td>\n",
       "    </tr>\n",
       "    <tr>\n",
       "      <th>29</th>\n",
       "      <td>0.397365</td>\n",
       "      <td>GEN</td>\n",
       "      <td>null</td>\n",
       "    </tr>\n",
       "    <tr>\n",
       "      <th>30</th>\n",
       "      <td>0.401622</td>\n",
       "      <td>GEN</td>\n",
       "      <td>null</td>\n",
       "    </tr>\n",
       "    <tr>\n",
       "      <th>31</th>\n",
       "      <td>0.435975</td>\n",
       "      <td>GEN</td>\n",
       "      <td>null</td>\n",
       "    </tr>\n",
       "    <tr>\n",
       "      <th>32</th>\n",
       "      <td>0.417851</td>\n",
       "      <td>GEN</td>\n",
       "      <td>null</td>\n",
       "    </tr>\n",
       "    <tr>\n",
       "      <th>33</th>\n",
       "      <td>0.403242</td>\n",
       "      <td>GEN</td>\n",
       "      <td>null</td>\n",
       "    </tr>\n",
       "    <tr>\n",
       "      <th>34</th>\n",
       "      <td>0.387356</td>\n",
       "      <td>GEN</td>\n",
       "      <td>null</td>\n",
       "    </tr>\n",
       "    <tr>\n",
       "      <th>35</th>\n",
       "      <td>0.389536</td>\n",
       "      <td>GEN</td>\n",
       "      <td>null</td>\n",
       "    </tr>\n",
       "  </tbody>\n",
       "</table>\n",
       "</div>"
      ],
      "text/plain": [
       "    dwell time condition  null\n",
       "0     0.408026       BLN   emp\n",
       "1     0.392606       BLN   emp\n",
       "2     0.413817       BLN   emp\n",
       "3     0.389431       BLN   emp\n",
       "4     0.416042       BLN   emp\n",
       "5     0.394382       BLN   emp\n",
       "6     0.409274       BLN   emp\n",
       "7     0.404045       BLN   emp\n",
       "8     0.386885       BLN   emp\n",
       "9     0.412483       GEN   emp\n",
       "10    0.461185       GEN   emp\n",
       "11    0.411567       GEN   emp\n",
       "12    0.427239       GEN   emp\n",
       "13    0.504537       GEN   emp\n",
       "14    0.437891       GEN   emp\n",
       "15    0.435580       GEN   emp\n",
       "16    0.406627       GEN   emp\n",
       "17    0.414237       GEN   emp\n",
       "18    0.374613       BLN  null\n",
       "19    0.381686       BLN  null\n",
       "20    0.393627       BLN  null\n",
       "21    0.382416       BLN  null\n",
       "22    0.393368       BLN  null\n",
       "23    0.387356       BLN  null\n",
       "24    0.394230       BLN  null\n",
       "25    0.391486       BLN  null\n",
       "26    0.379272       BLN  null\n",
       "27    0.378713       GEN  null\n",
       "28    0.422363       GEN  null\n",
       "29    0.397365       GEN  null\n",
       "30    0.401622       GEN  null\n",
       "31    0.435975       GEN  null\n",
       "32    0.417851       GEN  null\n",
       "33    0.403242       GEN  null\n",
       "34    0.387356       GEN  null\n",
       "35    0.389536       GEN  null"
      ]
     },
     "execution_count": 80,
     "metadata": {},
     "output_type": "execute_result"
    }
   ],
   "source": [
    "dt_df"
   ]
  },
  {
   "cell_type": "code",
   "execution_count": 82,
   "metadata": {},
   "outputs": [
    {
     "data": {
      "image/png": "[encoded data removed]",
      "text/plain": [
       "<Figure size 216x288 with 1 Axes>"
      ]
     },
     "metadata": {},
     "output_type": "display_data"
    }
   ],
   "source": [
    "import seaborn as sns\n",
    "from matplotlib.collections import PathCollection\n",
    "from matplotlib import cm\n",
    "sns.set(style=\"white\")\n",
    "colors2 = ['black','firebrick']\n",
    "colors1 = ['black', 'lightgrey']\n",
    "fig, ax = plt.subplots(figsize = (3,4))\n",
    "#ax = sns.pointplot(x=\"condition\", y=\"dwell time\", data = dt_df, hue = 'condition', palette = colors2, join=True, ci=0, scale=6, markers='_')\n",
    "for artist in ax.lines:\n",
    "    artist.set_zorder(10)\n",
    "for artist in ax.findobj(PathCollection):\n",
    "    artist.set_zorder(11)\n",
    "ax = sns.stripplot(x=\"condition\", y=\"dwell time\", data = dt_df, hue = 'null', palette = colors1, size = 15, jitter = True ,alpha = 1)\n",
    "\n",
    "ax.legend_.remove()\n",
    "plt.yticks(size = 18)\n",
    "points = ax.collections\n",
    "ax.spines['top'].set_visible(False)\n",
    "ax.spines['right'].set_visible(False)\n",
    "ax.spines['bottom'].set_visible(False)\n",
    "\n",
    "plt.show()"
   ]
  },
  {
   "cell_type": "code",
   "execution_count": 113,
   "metadata": {},
   "outputs": [],
   "source": [
    "bln_dt = dt_df[(dt_df['condition'] == 'BLN') & (dt_df['null'] == 'emp')]     ['dwell time']\n",
    "p20_dt = dt_df[(dt_df['condition'] == 'GEN') & (dt_df['null'] == 'emp')]['dwell time']\n",
    "bln_null = dt_df[(dt_df['condition'] == 'BLN') & (dt_df['null'] == 'null')]['dwell time']\n",
    "p20_null = dt_df[(dt_df['condition'] == 'GEN') & (dt_df['null'] == 'null')]['dwell time']\n",
    "\n",
    "#Calculate residual dwell times given nulls\n",
    "bln_change = np.array(bln_dt)  - np.array(bln_null) \n",
    "p20_change = np.array(p20_dt)  - np.array(p20_null) "
   ]
  },
  {
   "cell_type": "code",
   "execution_count": 114,
   "metadata": {},
   "outputs": [
    {
     "name": "stdout",
     "output_type": "stream",
     "text": [
      "BLN empirical mean = 0.40161205112439674  , std = 0.0036544700892891563\n",
      "PTZ20 empirical mean = 0.43459390066252784  , std = 0.01046209731764914\n",
      "BLN null mean = 0.3864504591631489  , std = 0.002405662423012923\n",
      "PTZ20 null mean = 0.4037804061773395  , std = 0.006154166929252833\n"
     ]
    }
   ],
   "source": [
    "m_list = bln_dt, p20_dt\n",
    "cond = ['BLN empirical', 'PTZ20 empirical']\n",
    "for i in range(len(m_list)):\n",
    "    adfn.mean_std(cond[i], m_list[i])\n",
    "    \n",
    "m_list = bln_null, p20_null\n",
    "cond = ['BLN null', 'PTZ20 null']\n",
    "for i in range(len(m_list)):\n",
    "    adfn.mean_std(cond[i], m_list[i])"
   ]
  },
  {
   "cell_type": "code",
   "execution_count": 102,
   "metadata": {},
   "outputs": [
    {
     "name": "stdout",
     "output_type": "stream",
     "text": [
      "At least one sample is non-Gaussian - performing non-parametric test\n",
      "Samples are significantly different\n",
      "w = 0.0   p = 0.00390625\n",
      "At least one sample is non-Gaussian - performing non-parametric test\n",
      "Samples are significantly different\n",
      "w = 0.0   p = 0.00390625\n"
     ]
    }
   ],
   "source": [
    "#Compare null vs empirical\n",
    "\n",
    "adfn.stats_2samp(bln_dt, bln_null, 0.05, 1, 'rel')\n",
    "\n",
    "adfn.stats_2samp(p20_dt, p20_null, 0.05, 1, 'rel')"
   ]
  },
  {
   "cell_type": "code",
   "execution_count": 115,
   "metadata": {},
   "outputs": [
    {
     "name": "stdout",
     "output_type": "stream",
     "text": [
      "At least one sample is non-Gaussian - performing non-parametric test\n",
      "Samples are significantly different\n",
      "w = 1.0   p = 0.0078125\n"
     ]
    }
   ],
   "source": [
    "#Compare BLN vs P20\n",
    "adfn.stats_2samp(p20_dt, bln_dt, 0.05, 1, 'rel')"
   ]
  },
  {
   "cell_type": "code",
   "execution_count": 107,
   "metadata": {},
   "outputs": [
    {
     "data": {
      "text/plain": [
       "[0.033412309279089336,\n",
       " 0.010919811414592362,\n",
       " 0.020190778657452002,\n",
       " 0.007015362650283408,\n",
       " 0.022673232463955417,\n",
       " 0.007026443414851258,\n",
       " 0.015043655283483559,\n",
       " 0.012559515663950749,\n",
       " 0.007613218823572965,\n",
       " 0.03376909707713144,\n",
       " 0.03882141115953036,\n",
       " 0.014202202911056283,\n",
       " 0.02561693517066338,\n",
       " 0.06856262934331697,\n",
       " 0.020039767215938198,\n",
       " 0.032337488866319486,\n",
       " 0.01927136484794978,\n",
       " 0.024700553774788803]"
      ]
     },
     "execution_count": 107,
     "metadata": {},
     "output_type": "execute_result"
    }
   ],
   "source": [
    "adfn.comb_list([bln_change, p20_change])"
   ]
  },
  {
   "cell_type": "code",
   "execution_count": 109,
   "metadata": {},
   "outputs": [
    {
     "data": {
      "text/html": [
       "<div>\n",
       "<style scoped>\n",
       "    .dataframe tbody tr th:only-of-type {\n",
       "        vertical-align: middle;\n",
       "    }\n",
       "\n",
       "    .dataframe tbody tr th {\n",
       "        vertical-align: top;\n",
       "    }\n",
       "\n",
       "    .dataframe thead th {\n",
       "        text-align: right;\n",
       "    }\n",
       "</style>\n",
       "<table border=\"1\" class=\"dataframe\">\n",
       "  <thead>\n",
       "    <tr style=\"text-align: right;\">\n",
       "      <th></th>\n",
       "      <th>Residual dwell time</th>\n",
       "      <th>condition</th>\n",
       "      <th>subject</th>\n",
       "    </tr>\n",
       "  </thead>\n",
       "  <tbody>\n",
       "    <tr>\n",
       "      <th>0</th>\n",
       "      <td>0.033412</td>\n",
       "      <td>BLN</td>\n",
       "      <td>0</td>\n",
       "    </tr>\n",
       "    <tr>\n",
       "      <th>1</th>\n",
       "      <td>0.010920</td>\n",
       "      <td>BLN</td>\n",
       "      <td>1</td>\n",
       "    </tr>\n",
       "    <tr>\n",
       "      <th>2</th>\n",
       "      <td>0.020191</td>\n",
       "      <td>BLN</td>\n",
       "      <td>2</td>\n",
       "    </tr>\n",
       "    <tr>\n",
       "      <th>3</th>\n",
       "      <td>0.007015</td>\n",
       "      <td>BLN</td>\n",
       "      <td>3</td>\n",
       "    </tr>\n",
       "    <tr>\n",
       "      <th>4</th>\n",
       "      <td>0.022673</td>\n",
       "      <td>BLN</td>\n",
       "      <td>4</td>\n",
       "    </tr>\n",
       "    <tr>\n",
       "      <th>5</th>\n",
       "      <td>0.007026</td>\n",
       "      <td>BLN</td>\n",
       "      <td>5</td>\n",
       "    </tr>\n",
       "    <tr>\n",
       "      <th>6</th>\n",
       "      <td>0.015044</td>\n",
       "      <td>BLN</td>\n",
       "      <td>6</td>\n",
       "    </tr>\n",
       "    <tr>\n",
       "      <th>7</th>\n",
       "      <td>0.012560</td>\n",
       "      <td>BLN</td>\n",
       "      <td>7</td>\n",
       "    </tr>\n",
       "    <tr>\n",
       "      <th>8</th>\n",
       "      <td>0.007613</td>\n",
       "      <td>BLN</td>\n",
       "      <td>8</td>\n",
       "    </tr>\n",
       "    <tr>\n",
       "      <th>9</th>\n",
       "      <td>0.033769</td>\n",
       "      <td>PTZ20</td>\n",
       "      <td>0</td>\n",
       "    </tr>\n",
       "    <tr>\n",
       "      <th>10</th>\n",
       "      <td>0.038821</td>\n",
       "      <td>PTZ20</td>\n",
       "      <td>1</td>\n",
       "    </tr>\n",
       "    <tr>\n",
       "      <th>11</th>\n",
       "      <td>0.014202</td>\n",
       "      <td>PTZ20</td>\n",
       "      <td>2</td>\n",
       "    </tr>\n",
       "    <tr>\n",
       "      <th>12</th>\n",
       "      <td>0.025617</td>\n",
       "      <td>PTZ20</td>\n",
       "      <td>3</td>\n",
       "    </tr>\n",
       "    <tr>\n",
       "      <th>13</th>\n",
       "      <td>0.068563</td>\n",
       "      <td>PTZ20</td>\n",
       "      <td>4</td>\n",
       "    </tr>\n",
       "    <tr>\n",
       "      <th>14</th>\n",
       "      <td>0.020040</td>\n",
       "      <td>PTZ20</td>\n",
       "      <td>5</td>\n",
       "    </tr>\n",
       "    <tr>\n",
       "      <th>15</th>\n",
       "      <td>0.032337</td>\n",
       "      <td>PTZ20</td>\n",
       "      <td>6</td>\n",
       "    </tr>\n",
       "    <tr>\n",
       "      <th>16</th>\n",
       "      <td>0.019271</td>\n",
       "      <td>PTZ20</td>\n",
       "      <td>7</td>\n",
       "    </tr>\n",
       "    <tr>\n",
       "      <th>17</th>\n",
       "      <td>0.024701</td>\n",
       "      <td>PTZ20</td>\n",
       "      <td>8</td>\n",
       "    </tr>\n",
       "  </tbody>\n",
       "</table>\n",
       "</div>"
      ],
      "text/plain": [
       "    Residual dwell time condition  subject\n",
       "0              0.033412       BLN        0\n",
       "1              0.010920       BLN        1\n",
       "2              0.020191       BLN        2\n",
       "3              0.007015       BLN        3\n",
       "4              0.022673       BLN        4\n",
       "5              0.007026       BLN        5\n",
       "6              0.015044       BLN        6\n",
       "7              0.012560       BLN        7\n",
       "8              0.007613       BLN        8\n",
       "9              0.033769     PTZ20        0\n",
       "10             0.038821     PTZ20        1\n",
       "11             0.014202     PTZ20        2\n",
       "12             0.025617     PTZ20        3\n",
       "13             0.068563     PTZ20        4\n",
       "14             0.020040     PTZ20        5\n",
       "15             0.032337     PTZ20        6\n",
       "16             0.019271     PTZ20        7\n",
       "17             0.024701     PTZ20        8"
      ]
     },
     "execution_count": 109,
     "metadata": {},
     "output_type": "execute_result"
    }
   ],
   "source": [
    "#Plot residual dwell times\n",
    "from matplotlib import cm\n",
    "\n",
    "data_list = bln_change, p20_change\n",
    "plot_list = adfn.comb_list(data_list)\n",
    "cond = ['BLN', 'PTZ20']\n",
    "num = np.arange(0, len(data_list[0]))\n",
    "cond_data = adfn.cond_list(data_list, cond, 'dataset')\n",
    "num_data = adfn.cond_list(data_list, num, 'datapoint')\n",
    "mean_colours = ['k', 'firebrick']\n",
    "colours  = cm.Spectral_r(np.linspace(0,1,len(data_list[0])))\n",
    "m_df = pd.DataFrame( {'Residual dwell time':   plot_list, 'condition': cond_data, 'subject': num_data } )\n",
    "m_df\n"
   ]
  },
  {
   "cell_type": "code",
   "execution_count": 110,
   "metadata": {},
   "outputs": [
    {
     "data": {
      "image/png": "[encoded data removed]",
      "text/plain": [
       "<Figure size 216x360 with 1 Axes>"
      ]
     },
     "metadata": {},
     "output_type": "display_data"
    }
   ],
   "source": [
    "adfn.bar_scatter_plot(m_df, 'Residual dwell time', (3, 5), 7, 20, mean_colours, colours)"
   ]
  },
  {
   "cell_type": "code",
   "execution_count": 111,
   "metadata": {},
   "outputs": [
    {
     "name": "stdout",
     "output_type": "stream",
     "text": [
      "BLN mean = 0.015161591961247896  , std = 0.002955933739696265\n",
      "PTZ20 mean = 0.0308134944851883  , std = 0.0053874639648055994\n"
     ]
    }
   ],
   "source": [
    "bln = m_df[m_df['condition'] == 'BLN']['Residual dwell time']\n",
    "p20 = m_df[m_df['condition'] == 'PTZ20']['Residual dwell time']\n",
    "m_list = bln, p20\n",
    "for i in range(len(m_list)):\n",
    "    adfn.mean_std(cond[i], m_list[i])"
   ]
  },
  {
   "cell_type": "code",
   "execution_count": 112,
   "metadata": {},
   "outputs": [
    {
     "name": "stdout",
     "output_type": "stream",
     "text": [
      "At least one sample is non-Gaussian - performing non-parametric test\n",
      "Samples are significantly different\n",
      "w = 2.0   p = 0.01171875\n"
     ]
    },
    {
     "name": "stderr",
     "output_type": "stream",
     "text": [
      "/Users/dominicburrows/anaconda3/lib/python3.7/site-packages/scipy/stats/stats.py:1604: UserWarning: kurtosistest only valid for n>=20 ... continuing anyway, n=9\n",
      "  \"anyway, n=%i\" % int(n))\n"
     ]
    }
   ],
   "source": [
    "adfn.stats_2samp(bln, p20, 0.05, 1, 'rel')"
   ]
  }
 ],
 "metadata": {
  "colab": {
   "collapsed_sections": [],
   "name": "net_state.ipynb",
   "provenance": []
  },
  "kernelspec": {
   "display_name": "Python 3",
   "language": "python",
   "name": "python3"
  },
  "language_info": {
   "codemirror_mode": {
    "name": "ipython",
    "version": 3
   },
   "file_extension": ".py",
   "mimetype": "text/x-python",
   "name": "python",
   "nbconvert_exporter": "python",
   "pygments_lexer": "ipython3",
   "version": "3.7.6"
  }
 },
 "nbformat": 4,
 "nbformat_minor": 4
}
